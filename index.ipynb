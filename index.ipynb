{
 "cells": [
  {
   "cell_type": "markdown",
   "metadata": {},
   "source": [
    "# Data Cleaning in Pandas"
   ]
  },
  {
   "cell_type": "markdown",
   "metadata": {},
   "source": [
    "### ETL"
   ]
  },
  {
   "cell_type": "markdown",
   "metadata": {},
   "source": [
    "ETL stands for Extract, Transform, and Load. It’s a process used in data management to move data from various sources into a centralized data place for analysis and reporting. Here's a breakdown of each step:\n",
    "\n",
    "    Extract: This is the process of gathering raw data from various sources such as databases, flat files, APIs, or web scraping. The goal is to extract data in its raw form, without changing or processing it.\n",
    "\n",
    "    Transform: Once the data is extracted, it often needs to be cleaned, formatted, or aggregated. This step might include filtering out unwanted data, correcting errors, converting data types, merging different data sources, or performing calculations to prepare the data for analysis.\n",
    "\n",
    "    Load: After transforming the data, it’s loaded into the target destination, which could be a database, data warehouse, or data lake. This is where it’s stored in a structured format that can be queried and analyzed."
   ]
  },
  {
   "cell_type": "code",
   "execution_count": 1,
   "metadata": {},
   "outputs": [],
   "source": [
    "# imports \n",
    "import pandas as pd \n",
    "import numpy as np \n"
   ]
  },
  {
   "cell_type": "markdown",
   "metadata": {},
   "source": [
    "### Data Loading "
   ]
  },
  {
   "cell_type": "code",
   "execution_count": 2,
   "metadata": {},
   "outputs": [
    {
     "data": {
      "application/vnd.microsoft.datawrangler.viewer.v0+json": {
       "columns": [
        {
         "name": "index",
         "rawType": "int64",
         "type": "integer"
        },
        {
         "name": "business_id",
         "rawType": "object",
         "type": "string"
        },
        {
         "name": "cool",
         "rawType": "object",
         "type": "string"
        },
        {
         "name": "date",
         "rawType": "object",
         "type": "string"
        },
        {
         "name": "funny",
         "rawType": "int64",
         "type": "integer"
        },
        {
         "name": "review_id",
         "rawType": "object",
         "type": "string"
        },
        {
         "name": "stars",
         "rawType": "float64",
         "type": "float"
        },
        {
         "name": "text",
         "rawType": "object",
         "type": "string"
        },
        {
         "name": "useful",
         "rawType": "int64",
         "type": "integer"
        },
        {
         "name": "user_id",
         "rawType": "object",
         "type": "string"
        }
       ],
       "ref": "d6ab7d91-4fed-425a-8d04-7507664d044b",
       "rows": [
        [
         "1",
         "pomGBqfbxcqPv14c3XH-ZQ",
         "0",
         "2012-11-13",
         "0",
         "dDl8zu1vWPdKGihJrwQbpw",
         "5.0",
         "I love this place! My fiance And I go here atleast once a week. The portions are huge! Food is amazing. I love their carne asada. They have great lunch specials... Leticia is super nice and cares about what you think of her restaurant. You have to try their cheese enchiladas too the sauce is different And amazing!!!",
         "0",
         "msQe1u7Z_XuqjGoqhB0J5g"
        ],
        [
         "2",
         "jtQARsP6P-LbkyjbO1qNGg",
         "1",
         "2014-10-23",
         "1",
         "LZp4UX5zK3e-c5ZGSeo3kA",
         "1.0",
         "Terrible. Dry corn bread. Rib tips were all fat and mushy and had no flavor. If you want bbq in this neighborhood go to john mulls roadkill grill. Trust me.",
         "3",
         "msQe1u7Z_XuqjGoqhB0J5g"
        ],
        [
         "4",
         "Ums3gaP2qM3W1XcA5r6SsQ",
         "0",
         "2014-09-05",
         "0",
         "jsDu6QEJHbwP2Blom1PLCA",
         "5.0",
         "Delicious healthy food. The steak is amazing. Fish and pork are awesome too. Service is above and beyond. Not a bad thing to say about this place. Worth every penny!",
         "0",
         "msQe1u7Z_XuqjGoqhB0J5g"
        ],
        [
         "5",
         "vgfcTvK81oD4r50NMjU2Ag",
         "0",
         "2011-02-25",
         "0",
         "pfavA0hr3nyqO61oupj-lA",
         null,
         "This place sucks. The customer service is horrible. They dont serve food unless you order a pizza from a neighboring restaurant. Who does that? They dont control their crowd. Many times I've gone I've seen fights. The bartenders suck - I've almost got in a fight with one because she was a complete bitch. Refused to serve me a drink because she was \"busy\" celebrating her friends birthday BEHIND THE BAR. This place is ridiculous. I will NEVER go there again.. EVER.",
         "2",
         "msQe1u7Z_XuqjGoqhB0J5g"
        ],
        [
         "10",
         "yFumR3CWzpfvTH2FCthvVw",
         "0",
         "2016-06-15",
         "0",
         "STiFMww2z31siPY7BWNC2g",
         "5.0",
         "I have been an Emerald Club member for a number of years.  I have always been very satisfied with their vehicles and customer service.  This recent visit to Pittsburgh was no exception.",
         "0",
         "TlvV-xJhmh7LCwJYXkV-cg"
        ]
       ],
       "shape": {
        "columns": 9,
        "rows": 5
       }
      },
      "text/html": [
       "<div>\n",
       "<style scoped>\n",
       "    .dataframe tbody tr th:only-of-type {\n",
       "        vertical-align: middle;\n",
       "    }\n",
       "\n",
       "    .dataframe tbody tr th {\n",
       "        vertical-align: top;\n",
       "    }\n",
       "\n",
       "    .dataframe thead th {\n",
       "        text-align: right;\n",
       "    }\n",
       "</style>\n",
       "<table border=\"1\" class=\"dataframe\">\n",
       "  <thead>\n",
       "    <tr style=\"text-align: right;\">\n",
       "      <th></th>\n",
       "      <th>business_id</th>\n",
       "      <th>cool</th>\n",
       "      <th>date</th>\n",
       "      <th>funny</th>\n",
       "      <th>review_id</th>\n",
       "      <th>stars</th>\n",
       "      <th>text</th>\n",
       "      <th>useful</th>\n",
       "      <th>user_id</th>\n",
       "    </tr>\n",
       "  </thead>\n",
       "  <tbody>\n",
       "    <tr>\n",
       "      <th>1</th>\n",
       "      <td>pomGBqfbxcqPv14c3XH-ZQ</td>\n",
       "      <td>0</td>\n",
       "      <td>2012-11-13</td>\n",
       "      <td>0</td>\n",
       "      <td>dDl8zu1vWPdKGihJrwQbpw</td>\n",
       "      <td>5.0</td>\n",
       "      <td>I love this place! My fiance And I go here atl...</td>\n",
       "      <td>0</td>\n",
       "      <td>msQe1u7Z_XuqjGoqhB0J5g</td>\n",
       "    </tr>\n",
       "    <tr>\n",
       "      <th>2</th>\n",
       "      <td>jtQARsP6P-LbkyjbO1qNGg</td>\n",
       "      <td>1</td>\n",
       "      <td>2014-10-23</td>\n",
       "      <td>1</td>\n",
       "      <td>LZp4UX5zK3e-c5ZGSeo3kA</td>\n",
       "      <td>1.0</td>\n",
       "      <td>Terrible. Dry corn bread. Rib tips were all fa...</td>\n",
       "      <td>3</td>\n",
       "      <td>msQe1u7Z_XuqjGoqhB0J5g</td>\n",
       "    </tr>\n",
       "    <tr>\n",
       "      <th>4</th>\n",
       "      <td>Ums3gaP2qM3W1XcA5r6SsQ</td>\n",
       "      <td>0</td>\n",
       "      <td>2014-09-05</td>\n",
       "      <td>0</td>\n",
       "      <td>jsDu6QEJHbwP2Blom1PLCA</td>\n",
       "      <td>5.0</td>\n",
       "      <td>Delicious healthy food. The steak is amazing. ...</td>\n",
       "      <td>0</td>\n",
       "      <td>msQe1u7Z_XuqjGoqhB0J5g</td>\n",
       "    </tr>\n",
       "    <tr>\n",
       "      <th>5</th>\n",
       "      <td>vgfcTvK81oD4r50NMjU2Ag</td>\n",
       "      <td>0</td>\n",
       "      <td>2011-02-25</td>\n",
       "      <td>0</td>\n",
       "      <td>pfavA0hr3nyqO61oupj-lA</td>\n",
       "      <td>NaN</td>\n",
       "      <td>This place sucks. The customer service is horr...</td>\n",
       "      <td>2</td>\n",
       "      <td>msQe1u7Z_XuqjGoqhB0J5g</td>\n",
       "    </tr>\n",
       "    <tr>\n",
       "      <th>10</th>\n",
       "      <td>yFumR3CWzpfvTH2FCthvVw</td>\n",
       "      <td>0</td>\n",
       "      <td>2016-06-15</td>\n",
       "      <td>0</td>\n",
       "      <td>STiFMww2z31siPY7BWNC2g</td>\n",
       "      <td>5.0</td>\n",
       "      <td>I have been an Emerald Club member for a numbe...</td>\n",
       "      <td>0</td>\n",
       "      <td>TlvV-xJhmh7LCwJYXkV-cg</td>\n",
       "    </tr>\n",
       "  </tbody>\n",
       "</table>\n",
       "</div>"
      ],
      "text/plain": [
       "               business_id cool        date  funny               review_id  \\\n",
       "1   pomGBqfbxcqPv14c3XH-ZQ    0  2012-11-13      0  dDl8zu1vWPdKGihJrwQbpw   \n",
       "2   jtQARsP6P-LbkyjbO1qNGg    1  2014-10-23      1  LZp4UX5zK3e-c5ZGSeo3kA   \n",
       "4   Ums3gaP2qM3W1XcA5r6SsQ    0  2014-09-05      0  jsDu6QEJHbwP2Blom1PLCA   \n",
       "5   vgfcTvK81oD4r50NMjU2Ag    0  2011-02-25      0  pfavA0hr3nyqO61oupj-lA   \n",
       "10  yFumR3CWzpfvTH2FCthvVw    0  2016-06-15      0  STiFMww2z31siPY7BWNC2g   \n",
       "\n",
       "    stars                                               text  useful  \\\n",
       "1     5.0  I love this place! My fiance And I go here atl...       0   \n",
       "2     1.0  Terrible. Dry corn bread. Rib tips were all fa...       3   \n",
       "4     5.0  Delicious healthy food. The steak is amazing. ...       0   \n",
       "5     NaN  This place sucks. The customer service is horr...       2   \n",
       "10    5.0  I have been an Emerald Club member for a numbe...       0   \n",
       "\n",
       "                   user_id  \n",
       "1   msQe1u7Z_XuqjGoqhB0J5g  \n",
       "2   msQe1u7Z_XuqjGoqhB0J5g  \n",
       "4   msQe1u7Z_XuqjGoqhB0J5g  \n",
       "5   msQe1u7Z_XuqjGoqhB0J5g  \n",
       "10  TlvV-xJhmh7LCwJYXkV-cg  "
      ]
     },
     "execution_count": 2,
     "metadata": {},
     "output_type": "execute_result"
    }
   ],
   "source": [
    "# data loading \n",
    "df_yelp = pd.read_csv(\"./data/Yelp_Reviews.csv\",index_col=0)\n",
    "df_yelp.head()\n"
   ]
  },
  {
   "cell_type": "code",
   "execution_count": 3,
   "metadata": {},
   "outputs": [
    {
     "name": "stdout",
     "output_type": "stream",
     "text": [
      "<class 'pandas.core.frame.DataFrame'>\n",
      "Index: 2610 entries, 1 to 4206\n",
      "Data columns (total 9 columns):\n",
      " #   Column       Non-Null Count  Dtype  \n",
      "---  ------       --------------  -----  \n",
      " 0   business_id  2610 non-null   object \n",
      " 1   cool         2608 non-null   object \n",
      " 2   date         2610 non-null   object \n",
      " 3   funny        2610 non-null   int64  \n",
      " 4   review_id    2610 non-null   object \n",
      " 5   stars        2607 non-null   float64\n",
      " 6   text         2610 non-null   object \n",
      " 7   useful       2610 non-null   int64  \n",
      " 8   user_id      2610 non-null   object \n",
      "dtypes: float64(1), int64(2), object(6)\n",
      "memory usage: 203.9+ KB\n"
     ]
    }
   ],
   "source": [
    "df_yelp.info()"
   ]
  },
  {
   "cell_type": "code",
   "execution_count": 4,
   "metadata": {},
   "outputs": [
    {
     "data": {
      "text/plain": [
       "80"
      ]
     },
     "execution_count": 4,
     "metadata": {},
     "output_type": "execute_result"
    }
   ],
   "source": [
    "def multiply(x,y):\n",
    "    return x*y\n",
    "\n",
    "multiply(8,10)"
   ]
  },
  {
   "cell_type": "markdown",
   "metadata": {},
   "source": [
    "### Lambda Functions "
   ]
  },
  {
   "cell_type": "markdown",
   "metadata": {},
   "source": [
    "Lambda functions are often a convenient way to write throw-away functions on the fly. If you need to write a more complicated function you may still need to use the more formal def method, but lambda functions provide a quick and concise way to write function"
   ]
  },
  {
   "cell_type": "code",
   "execution_count": 5,
   "metadata": {},
   "outputs": [],
   "source": [
    "def square(x):\n",
    "    return x * x"
   ]
  },
  {
   "cell_type": "code",
   "execution_count": 9,
   "metadata": {},
   "outputs": [
    {
     "data": {
      "text/plain": [
       "3"
      ]
     },
     "execution_count": 9,
     "metadata": {},
     "output_type": "execute_result"
    }
   ],
   "source": [
    "def splitter(text):\n",
    "    text = \"Good Morning Vincent\"\n",
    "    return len(text.split())\n",
    "splitter(\"Good Morning Vincent\")"
   ]
  },
  {
   "cell_type": "code",
   "execution_count": 10,
   "metadata": {},
   "outputs": [
    {
     "data": {
      "application/vnd.microsoft.datawrangler.viewer.v0+json": {
       "columns": [
        {
         "name": "index",
         "rawType": "int64",
         "type": "integer"
        },
        {
         "name": "text",
         "rawType": "int64",
         "type": "integer"
        }
       ],
       "ref": "d9c528ff-730f-49b4-913f-794e12872379",
       "rows": [
        [
         "1",
         "58"
        ],
        [
         "2",
         "30"
        ],
        [
         "4",
         "30"
        ],
        [
         "5",
         "82"
        ],
        [
         "10",
         "32"
        ],
        [
         "11",
         "49"
        ],
        [
         "12",
         "21"
        ],
        [
         "19",
         "70"
        ],
        [
         "25",
         "131"
        ],
        [
         "26",
         "112"
        ],
        [
         "27",
         "19"
        ],
        [
         "28",
         "28"
        ],
        [
         "29",
         "20"
        ],
        [
         "30",
         "15"
        ],
        [
         "31",
         "28"
        ],
        [
         "32",
         "31"
        ],
        [
         "35",
         "31"
        ],
        [
         "40",
         "49"
        ],
        [
         "41",
         "26"
        ],
        [
         "42",
         "47"
        ],
        [
         "74",
         "85"
        ],
        [
         "79",
         "120"
        ],
        [
         "83",
         "28"
        ],
        [
         "92",
         "32"
        ],
        [
         "95",
         "37"
        ],
        [
         "102",
         "122"
        ],
        [
         "172",
         "51"
        ],
        [
         "179",
         "42"
        ],
        [
         "180",
         "80"
        ],
        [
         "182",
         "79"
        ],
        [
         "183",
         "65"
        ],
        [
         "184",
         "54"
        ],
        [
         "185",
         "187"
        ],
        [
         "186",
         "45"
        ],
        [
         "188",
         "134"
        ],
        [
         "189",
         "58"
        ],
        [
         "190",
         "6"
        ],
        [
         "191",
         "9"
        ],
        [
         "192",
         "5"
        ],
        [
         "193",
         "11"
        ],
        [
         "196",
         "23"
        ],
        [
         "260",
         "64"
        ],
        [
         "269",
         "107"
        ],
        [
         "273",
         "51"
        ],
        [
         "275",
         "56"
        ],
        [
         "280",
         "24"
        ],
        [
         "282",
         "71"
        ],
        [
         "283",
         "74"
        ],
        [
         "284",
         "15"
        ],
        [
         "286",
         "22"
        ]
       ],
       "shape": {
        "columns": 1,
        "rows": 2610
       }
      },
      "text/plain": [
       "1        58\n",
       "2        30\n",
       "4        30\n",
       "5        82\n",
       "10       32\n",
       "       ... \n",
       "689      61\n",
       "4874     43\n",
       "564      79\n",
       "3458    185\n",
       "4206     42\n",
       "Name: text, Length: 2610, dtype: int64"
      ]
     },
     "execution_count": 10,
     "metadata": {},
     "output_type": "execute_result"
    }
   ],
   "source": [
    "# an example of a lambda function \n",
    "\n",
    "# lambda x,y,z : x+y+z\n",
    "\n",
    "df_yelp[\"text\"].apply(lambda text: len(text.split()))\n",
    "\n"
   ]
  },
  {
   "cell_type": "code",
   "execution_count": 11,
   "metadata": {},
   "outputs": [
    {
     "data": {
      "application/vnd.microsoft.datawrangler.viewer.v0+json": {
       "columns": [
        {
         "name": "index",
         "rawType": "int64",
         "type": "integer"
        },
        {
         "name": "business_id",
         "rawType": "object",
         "type": "string"
        },
        {
         "name": "cool",
         "rawType": "object",
         "type": "string"
        },
        {
         "name": "date",
         "rawType": "object",
         "type": "string"
        },
        {
         "name": "funny",
         "rawType": "int64",
         "type": "integer"
        },
        {
         "name": "review_id",
         "rawType": "object",
         "type": "string"
        },
        {
         "name": "stars",
         "rawType": "float64",
         "type": "float"
        },
        {
         "name": "text",
         "rawType": "object",
         "type": "string"
        },
        {
         "name": "useful",
         "rawType": "int64",
         "type": "integer"
        },
        {
         "name": "user_id",
         "rawType": "object",
         "type": "string"
        },
        {
         "name": "review_length",
         "rawType": "int64",
         "type": "integer"
        }
       ],
       "ref": "9dd13eb7-70b1-4fd0-b0c6-96188a0473a8",
       "rows": [
        [
         "1",
         "pomGBqfbxcqPv14c3XH-ZQ",
         "0",
         "2012-11-13",
         "0",
         "dDl8zu1vWPdKGihJrwQbpw",
         "5.0",
         "I love this place! My fiance And I go here atleast once a week. The portions are huge! Food is amazing. I love their carne asada. They have great lunch specials... Leticia is super nice and cares about what you think of her restaurant. You have to try their cheese enchiladas too the sauce is different And amazing!!!",
         "0",
         "msQe1u7Z_XuqjGoqhB0J5g",
         "58"
        ],
        [
         "2",
         "jtQARsP6P-LbkyjbO1qNGg",
         "1",
         "2014-10-23",
         "1",
         "LZp4UX5zK3e-c5ZGSeo3kA",
         "1.0",
         "Terrible. Dry corn bread. Rib tips were all fat and mushy and had no flavor. If you want bbq in this neighborhood go to john mulls roadkill grill. Trust me.",
         "3",
         "msQe1u7Z_XuqjGoqhB0J5g",
         "30"
        ],
        [
         "4",
         "Ums3gaP2qM3W1XcA5r6SsQ",
         "0",
         "2014-09-05",
         "0",
         "jsDu6QEJHbwP2Blom1PLCA",
         "5.0",
         "Delicious healthy food. The steak is amazing. Fish and pork are awesome too. Service is above and beyond. Not a bad thing to say about this place. Worth every penny!",
         "0",
         "msQe1u7Z_XuqjGoqhB0J5g",
         "30"
        ],
        [
         "5",
         "vgfcTvK81oD4r50NMjU2Ag",
         "0",
         "2011-02-25",
         "0",
         "pfavA0hr3nyqO61oupj-lA",
         null,
         "This place sucks. The customer service is horrible. They dont serve food unless you order a pizza from a neighboring restaurant. Who does that? They dont control their crowd. Many times I've gone I've seen fights. The bartenders suck - I've almost got in a fight with one because she was a complete bitch. Refused to serve me a drink because she was \"busy\" celebrating her friends birthday BEHIND THE BAR. This place is ridiculous. I will NEVER go there again.. EVER.",
         "2",
         "msQe1u7Z_XuqjGoqhB0J5g",
         "82"
        ],
        [
         "10",
         "yFumR3CWzpfvTH2FCthvVw",
         "0",
         "2016-06-15",
         "0",
         "STiFMww2z31siPY7BWNC2g",
         "5.0",
         "I have been an Emerald Club member for a number of years.  I have always been very satisfied with their vehicles and customer service.  This recent visit to Pittsburgh was no exception.",
         "0",
         "TlvV-xJhmh7LCwJYXkV-cg",
         "32"
        ]
       ],
       "shape": {
        "columns": 10,
        "rows": 5
       }
      },
      "text/html": [
       "<div>\n",
       "<style scoped>\n",
       "    .dataframe tbody tr th:only-of-type {\n",
       "        vertical-align: middle;\n",
       "    }\n",
       "\n",
       "    .dataframe tbody tr th {\n",
       "        vertical-align: top;\n",
       "    }\n",
       "\n",
       "    .dataframe thead th {\n",
       "        text-align: right;\n",
       "    }\n",
       "</style>\n",
       "<table border=\"1\" class=\"dataframe\">\n",
       "  <thead>\n",
       "    <tr style=\"text-align: right;\">\n",
       "      <th></th>\n",
       "      <th>business_id</th>\n",
       "      <th>cool</th>\n",
       "      <th>date</th>\n",
       "      <th>funny</th>\n",
       "      <th>review_id</th>\n",
       "      <th>stars</th>\n",
       "      <th>text</th>\n",
       "      <th>useful</th>\n",
       "      <th>user_id</th>\n",
       "      <th>review_length</th>\n",
       "    </tr>\n",
       "  </thead>\n",
       "  <tbody>\n",
       "    <tr>\n",
       "      <th>1</th>\n",
       "      <td>pomGBqfbxcqPv14c3XH-ZQ</td>\n",
       "      <td>0</td>\n",
       "      <td>2012-11-13</td>\n",
       "      <td>0</td>\n",
       "      <td>dDl8zu1vWPdKGihJrwQbpw</td>\n",
       "      <td>5.0</td>\n",
       "      <td>I love this place! My fiance And I go here atl...</td>\n",
       "      <td>0</td>\n",
       "      <td>msQe1u7Z_XuqjGoqhB0J5g</td>\n",
       "      <td>58</td>\n",
       "    </tr>\n",
       "    <tr>\n",
       "      <th>2</th>\n",
       "      <td>jtQARsP6P-LbkyjbO1qNGg</td>\n",
       "      <td>1</td>\n",
       "      <td>2014-10-23</td>\n",
       "      <td>1</td>\n",
       "      <td>LZp4UX5zK3e-c5ZGSeo3kA</td>\n",
       "      <td>1.0</td>\n",
       "      <td>Terrible. Dry corn bread. Rib tips were all fa...</td>\n",
       "      <td>3</td>\n",
       "      <td>msQe1u7Z_XuqjGoqhB0J5g</td>\n",
       "      <td>30</td>\n",
       "    </tr>\n",
       "    <tr>\n",
       "      <th>4</th>\n",
       "      <td>Ums3gaP2qM3W1XcA5r6SsQ</td>\n",
       "      <td>0</td>\n",
       "      <td>2014-09-05</td>\n",
       "      <td>0</td>\n",
       "      <td>jsDu6QEJHbwP2Blom1PLCA</td>\n",
       "      <td>5.0</td>\n",
       "      <td>Delicious healthy food. The steak is amazing. ...</td>\n",
       "      <td>0</td>\n",
       "      <td>msQe1u7Z_XuqjGoqhB0J5g</td>\n",
       "      <td>30</td>\n",
       "    </tr>\n",
       "    <tr>\n",
       "      <th>5</th>\n",
       "      <td>vgfcTvK81oD4r50NMjU2Ag</td>\n",
       "      <td>0</td>\n",
       "      <td>2011-02-25</td>\n",
       "      <td>0</td>\n",
       "      <td>pfavA0hr3nyqO61oupj-lA</td>\n",
       "      <td>NaN</td>\n",
       "      <td>This place sucks. The customer service is horr...</td>\n",
       "      <td>2</td>\n",
       "      <td>msQe1u7Z_XuqjGoqhB0J5g</td>\n",
       "      <td>82</td>\n",
       "    </tr>\n",
       "    <tr>\n",
       "      <th>10</th>\n",
       "      <td>yFumR3CWzpfvTH2FCthvVw</td>\n",
       "      <td>0</td>\n",
       "      <td>2016-06-15</td>\n",
       "      <td>0</td>\n",
       "      <td>STiFMww2z31siPY7BWNC2g</td>\n",
       "      <td>5.0</td>\n",
       "      <td>I have been an Emerald Club member for a numbe...</td>\n",
       "      <td>0</td>\n",
       "      <td>TlvV-xJhmh7LCwJYXkV-cg</td>\n",
       "      <td>32</td>\n",
       "    </tr>\n",
       "  </tbody>\n",
       "</table>\n",
       "</div>"
      ],
      "text/plain": [
       "               business_id cool        date  funny               review_id  \\\n",
       "1   pomGBqfbxcqPv14c3XH-ZQ    0  2012-11-13      0  dDl8zu1vWPdKGihJrwQbpw   \n",
       "2   jtQARsP6P-LbkyjbO1qNGg    1  2014-10-23      1  LZp4UX5zK3e-c5ZGSeo3kA   \n",
       "4   Ums3gaP2qM3W1XcA5r6SsQ    0  2014-09-05      0  jsDu6QEJHbwP2Blom1PLCA   \n",
       "5   vgfcTvK81oD4r50NMjU2Ag    0  2011-02-25      0  pfavA0hr3nyqO61oupj-lA   \n",
       "10  yFumR3CWzpfvTH2FCthvVw    0  2016-06-15      0  STiFMww2z31siPY7BWNC2g   \n",
       "\n",
       "    stars                                               text  useful  \\\n",
       "1     5.0  I love this place! My fiance And I go here atl...       0   \n",
       "2     1.0  Terrible. Dry corn bread. Rib tips were all fa...       3   \n",
       "4     5.0  Delicious healthy food. The steak is amazing. ...       0   \n",
       "5     NaN  This place sucks. The customer service is horr...       2   \n",
       "10    5.0  I have been an Emerald Club member for a numbe...       0   \n",
       "\n",
       "                   user_id  review_length  \n",
       "1   msQe1u7Z_XuqjGoqhB0J5g             58  \n",
       "2   msQe1u7Z_XuqjGoqhB0J5g             30  \n",
       "4   msQe1u7Z_XuqjGoqhB0J5g             30  \n",
       "5   msQe1u7Z_XuqjGoqhB0J5g             82  \n",
       "10  TlvV-xJhmh7LCwJYXkV-cg             32  "
      ]
     },
     "execution_count": 11,
     "metadata": {},
     "output_type": "execute_result"
    }
   ],
   "source": [
    "df_yelp[\"review_length\"] = df_yelp[\"text\"].apply(lambda text: len(text.split()))\n",
    "df_yelp.head()"
   ]
  },
  {
   "cell_type": "code",
   "execution_count": 584,
   "metadata": {},
   "outputs": [
    {
     "name": "stdout",
     "output_type": "stream",
     "text": [
      "<class 'pandas.core.frame.DataFrame'>\n",
      "Index: 2610 entries, 1 to 4206\n",
      "Data columns (total 10 columns):\n",
      " #   Column         Non-Null Count  Dtype  \n",
      "---  ------         --------------  -----  \n",
      " 0   business_id    2610 non-null   object \n",
      " 1   cool           2608 non-null   object \n",
      " 2   date           2610 non-null   object \n",
      " 3   funny          2610 non-null   int64  \n",
      " 4   review_id      2610 non-null   object \n",
      " 5   stars          2607 non-null   float64\n",
      " 6   text           2610 non-null   object \n",
      " 7   useful         2610 non-null   int64  \n",
      " 8   user_id        2610 non-null   object \n",
      " 9   review_length  2610 non-null   int64  \n",
      "dtypes: float64(1), int64(3), object(6)\n",
      "memory usage: 224.3+ KB\n"
     ]
    }
   ],
   "source": [
    "df_yelp.info()"
   ]
  },
  {
   "cell_type": "markdown",
   "metadata": {},
   "source": [
    "### Lambda functions with conditionals"
   ]
  },
  {
   "cell_type": "code",
   "execution_count": 585,
   "metadata": {},
   "outputs": [],
   "source": [
    "def sentiment(rating):\n",
    "    if rating > 3:\n",
    "        return \"positive\"\n",
    "    else:\n",
    "        return \"Negative\""
   ]
  },
  {
   "cell_type": "code",
   "execution_count": 12,
   "metadata": {},
   "outputs": [],
   "source": [
    "# conditionals simple example \n",
    "\n",
    "df_yelp[\"Sentiment\"] = df_yelp[\"stars\"].apply(lambda rating: \"Positive\" if rating > 3 else \"Negative\")"
   ]
  },
  {
   "cell_type": "code",
   "execution_count": 13,
   "metadata": {},
   "outputs": [
    {
     "data": {
      "application/vnd.microsoft.datawrangler.viewer.v0+json": {
       "columns": [
        {
         "name": "index",
         "rawType": "int64",
         "type": "integer"
        },
        {
         "name": "business_id",
         "rawType": "object",
         "type": "string"
        },
        {
         "name": "cool",
         "rawType": "object",
         "type": "string"
        },
        {
         "name": "date",
         "rawType": "object",
         "type": "string"
        },
        {
         "name": "funny",
         "rawType": "int64",
         "type": "integer"
        },
        {
         "name": "review_id",
         "rawType": "object",
         "type": "string"
        },
        {
         "name": "stars",
         "rawType": "float64",
         "type": "float"
        },
        {
         "name": "text",
         "rawType": "object",
         "type": "string"
        },
        {
         "name": "useful",
         "rawType": "int64",
         "type": "integer"
        },
        {
         "name": "user_id",
         "rawType": "object",
         "type": "string"
        },
        {
         "name": "review_length",
         "rawType": "int64",
         "type": "integer"
        },
        {
         "name": "Sentiment",
         "rawType": "object",
         "type": "string"
        }
       ],
       "ref": "201a0213-e60b-4191-bc03-080b1a110130",
       "rows": [
        [
         "1",
         "pomGBqfbxcqPv14c3XH-ZQ",
         "0",
         "2012-11-13",
         "0",
         "dDl8zu1vWPdKGihJrwQbpw",
         "5.0",
         "I love this place! My fiance And I go here atleast once a week. The portions are huge! Food is amazing. I love their carne asada. They have great lunch specials... Leticia is super nice and cares about what you think of her restaurant. You have to try their cheese enchiladas too the sauce is different And amazing!!!",
         "0",
         "msQe1u7Z_XuqjGoqhB0J5g",
         "58",
         "Positive"
        ],
        [
         "2",
         "jtQARsP6P-LbkyjbO1qNGg",
         "1",
         "2014-10-23",
         "1",
         "LZp4UX5zK3e-c5ZGSeo3kA",
         "1.0",
         "Terrible. Dry corn bread. Rib tips were all fat and mushy and had no flavor. If you want bbq in this neighborhood go to john mulls roadkill grill. Trust me.",
         "3",
         "msQe1u7Z_XuqjGoqhB0J5g",
         "30",
         "Negative"
        ],
        [
         "4",
         "Ums3gaP2qM3W1XcA5r6SsQ",
         "0",
         "2014-09-05",
         "0",
         "jsDu6QEJHbwP2Blom1PLCA",
         "5.0",
         "Delicious healthy food. The steak is amazing. Fish and pork are awesome too. Service is above and beyond. Not a bad thing to say about this place. Worth every penny!",
         "0",
         "msQe1u7Z_XuqjGoqhB0J5g",
         "30",
         "Positive"
        ],
        [
         "5",
         "vgfcTvK81oD4r50NMjU2Ag",
         "0",
         "2011-02-25",
         "0",
         "pfavA0hr3nyqO61oupj-lA",
         null,
         "This place sucks. The customer service is horrible. They dont serve food unless you order a pizza from a neighboring restaurant. Who does that? They dont control their crowd. Many times I've gone I've seen fights. The bartenders suck - I've almost got in a fight with one because she was a complete bitch. Refused to serve me a drink because she was \"busy\" celebrating her friends birthday BEHIND THE BAR. This place is ridiculous. I will NEVER go there again.. EVER.",
         "2",
         "msQe1u7Z_XuqjGoqhB0J5g",
         "82",
         "Negative"
        ],
        [
         "10",
         "yFumR3CWzpfvTH2FCthvVw",
         "0",
         "2016-06-15",
         "0",
         "STiFMww2z31siPY7BWNC2g",
         "5.0",
         "I have been an Emerald Club member for a number of years.  I have always been very satisfied with their vehicles and customer service.  This recent visit to Pittsburgh was no exception.",
         "0",
         "TlvV-xJhmh7LCwJYXkV-cg",
         "32",
         "Positive"
        ]
       ],
       "shape": {
        "columns": 11,
        "rows": 5
       }
      },
      "text/html": [
       "<div>\n",
       "<style scoped>\n",
       "    .dataframe tbody tr th:only-of-type {\n",
       "        vertical-align: middle;\n",
       "    }\n",
       "\n",
       "    .dataframe tbody tr th {\n",
       "        vertical-align: top;\n",
       "    }\n",
       "\n",
       "    .dataframe thead th {\n",
       "        text-align: right;\n",
       "    }\n",
       "</style>\n",
       "<table border=\"1\" class=\"dataframe\">\n",
       "  <thead>\n",
       "    <tr style=\"text-align: right;\">\n",
       "      <th></th>\n",
       "      <th>business_id</th>\n",
       "      <th>cool</th>\n",
       "      <th>date</th>\n",
       "      <th>funny</th>\n",
       "      <th>review_id</th>\n",
       "      <th>stars</th>\n",
       "      <th>text</th>\n",
       "      <th>useful</th>\n",
       "      <th>user_id</th>\n",
       "      <th>review_length</th>\n",
       "      <th>Sentiment</th>\n",
       "    </tr>\n",
       "  </thead>\n",
       "  <tbody>\n",
       "    <tr>\n",
       "      <th>1</th>\n",
       "      <td>pomGBqfbxcqPv14c3XH-ZQ</td>\n",
       "      <td>0</td>\n",
       "      <td>2012-11-13</td>\n",
       "      <td>0</td>\n",
       "      <td>dDl8zu1vWPdKGihJrwQbpw</td>\n",
       "      <td>5.0</td>\n",
       "      <td>I love this place! My fiance And I go here atl...</td>\n",
       "      <td>0</td>\n",
       "      <td>msQe1u7Z_XuqjGoqhB0J5g</td>\n",
       "      <td>58</td>\n",
       "      <td>Positive</td>\n",
       "    </tr>\n",
       "    <tr>\n",
       "      <th>2</th>\n",
       "      <td>jtQARsP6P-LbkyjbO1qNGg</td>\n",
       "      <td>1</td>\n",
       "      <td>2014-10-23</td>\n",
       "      <td>1</td>\n",
       "      <td>LZp4UX5zK3e-c5ZGSeo3kA</td>\n",
       "      <td>1.0</td>\n",
       "      <td>Terrible. Dry corn bread. Rib tips were all fa...</td>\n",
       "      <td>3</td>\n",
       "      <td>msQe1u7Z_XuqjGoqhB0J5g</td>\n",
       "      <td>30</td>\n",
       "      <td>Negative</td>\n",
       "    </tr>\n",
       "    <tr>\n",
       "      <th>4</th>\n",
       "      <td>Ums3gaP2qM3W1XcA5r6SsQ</td>\n",
       "      <td>0</td>\n",
       "      <td>2014-09-05</td>\n",
       "      <td>0</td>\n",
       "      <td>jsDu6QEJHbwP2Blom1PLCA</td>\n",
       "      <td>5.0</td>\n",
       "      <td>Delicious healthy food. The steak is amazing. ...</td>\n",
       "      <td>0</td>\n",
       "      <td>msQe1u7Z_XuqjGoqhB0J5g</td>\n",
       "      <td>30</td>\n",
       "      <td>Positive</td>\n",
       "    </tr>\n",
       "    <tr>\n",
       "      <th>5</th>\n",
       "      <td>vgfcTvK81oD4r50NMjU2Ag</td>\n",
       "      <td>0</td>\n",
       "      <td>2011-02-25</td>\n",
       "      <td>0</td>\n",
       "      <td>pfavA0hr3nyqO61oupj-lA</td>\n",
       "      <td>NaN</td>\n",
       "      <td>This place sucks. The customer service is horr...</td>\n",
       "      <td>2</td>\n",
       "      <td>msQe1u7Z_XuqjGoqhB0J5g</td>\n",
       "      <td>82</td>\n",
       "      <td>Negative</td>\n",
       "    </tr>\n",
       "    <tr>\n",
       "      <th>10</th>\n",
       "      <td>yFumR3CWzpfvTH2FCthvVw</td>\n",
       "      <td>0</td>\n",
       "      <td>2016-06-15</td>\n",
       "      <td>0</td>\n",
       "      <td>STiFMww2z31siPY7BWNC2g</td>\n",
       "      <td>5.0</td>\n",
       "      <td>I have been an Emerald Club member for a numbe...</td>\n",
       "      <td>0</td>\n",
       "      <td>TlvV-xJhmh7LCwJYXkV-cg</td>\n",
       "      <td>32</td>\n",
       "      <td>Positive</td>\n",
       "    </tr>\n",
       "  </tbody>\n",
       "</table>\n",
       "</div>"
      ],
      "text/plain": [
       "               business_id cool        date  funny               review_id  \\\n",
       "1   pomGBqfbxcqPv14c3XH-ZQ    0  2012-11-13      0  dDl8zu1vWPdKGihJrwQbpw   \n",
       "2   jtQARsP6P-LbkyjbO1qNGg    1  2014-10-23      1  LZp4UX5zK3e-c5ZGSeo3kA   \n",
       "4   Ums3gaP2qM3W1XcA5r6SsQ    0  2014-09-05      0  jsDu6QEJHbwP2Blom1PLCA   \n",
       "5   vgfcTvK81oD4r50NMjU2Ag    0  2011-02-25      0  pfavA0hr3nyqO61oupj-lA   \n",
       "10  yFumR3CWzpfvTH2FCthvVw    0  2016-06-15      0  STiFMww2z31siPY7BWNC2g   \n",
       "\n",
       "    stars                                               text  useful  \\\n",
       "1     5.0  I love this place! My fiance And I go here atl...       0   \n",
       "2     1.0  Terrible. Dry corn bread. Rib tips were all fa...       3   \n",
       "4     5.0  Delicious healthy food. The steak is amazing. ...       0   \n",
       "5     NaN  This place sucks. The customer service is horr...       2   \n",
       "10    5.0  I have been an Emerald Club member for a numbe...       0   \n",
       "\n",
       "                   user_id  review_length Sentiment  \n",
       "1   msQe1u7Z_XuqjGoqhB0J5g             58  Positive  \n",
       "2   msQe1u7Z_XuqjGoqhB0J5g             30  Negative  \n",
       "4   msQe1u7Z_XuqjGoqhB0J5g             30  Positive  \n",
       "5   msQe1u7Z_XuqjGoqhB0J5g             82  Negative  \n",
       "10  TlvV-xJhmh7LCwJYXkV-cg             32  Positive  "
      ]
     },
     "execution_count": 13,
     "metadata": {},
     "output_type": "execute_result"
    }
   ],
   "source": [
    "df_yelp.head()"
   ]
  },
  {
   "cell_type": "code",
   "execution_count": 588,
   "metadata": {},
   "outputs": [],
   "source": [
    "def sentiment2(rating):\n",
    "    if rating >=4:\n",
    "        return \"positive\"\n",
    "    elif rating >= 3 :\n",
    "        return \"Neutral\"\n",
    "    else:\n",
    "        return \"Negative\""
   ]
  },
  {
   "cell_type": "code",
   "execution_count": 589,
   "metadata": {},
   "outputs": [
    {
     "data": {
      "text/plain": [
       "stars\n",
       "positive    1743\n",
       "Negative     649\n",
       "Neutral      218\n",
       "Name: count, dtype: int64"
      ]
     },
     "execution_count": 589,
     "metadata": {},
     "output_type": "execute_result"
    }
   ],
   "source": [
    "df_yelp[\"stars\"].apply(sentiment2).value_counts()"
   ]
  },
  {
   "cell_type": "code",
   "execution_count": 590,
   "metadata": {},
   "outputs": [
    {
     "data": {
      "text/plain": [
       "1       positive\n",
       "2       Negative\n",
       "4       positive\n",
       "5       Negative\n",
       "10      positive\n",
       "          ...   \n",
       "689     positive\n",
       "4874    positive\n",
       "564     positive\n",
       "3458    Negative\n",
       "4206    Negative\n",
       "Name: stars, Length: 2610, dtype: object"
      ]
     },
     "execution_count": 590,
     "metadata": {},
     "output_type": "execute_result"
    }
   ],
   "source": [
    "# conditionals if else \n",
    "df_yelp[\"stars\"].apply(lambda rating: \"positive\" if rating >=4 else \"Neutral\" if rating >= 3 else \"Negative\")\n",
    "\n"
   ]
  },
  {
   "cell_type": "markdown",
   "metadata": {},
   "source": [
    "### Todo"
   ]
  },
  {
   "cell_type": "code",
   "execution_count": 591,
   "metadata": {},
   "outputs": [],
   "source": [
    "# repeat the conditional example using Normal functions"
   ]
  },
  {
   "cell_type": "code",
   "execution_count": 592,
   "metadata": {},
   "outputs": [],
   "source": [
    "# repeat the Conditional if else example using Normal functions"
   ]
  },
  {
   "cell_type": "markdown",
   "metadata": {},
   "source": [
    "## Data Cleaning in pandas "
   ]
  },
  {
   "cell_type": "markdown",
   "metadata": {},
   "source": [
    "### Dealing with duplicates "
   ]
  },
  {
   "cell_type": "markdown",
   "metadata": {},
   "source": [
    "Dealing with duplicated values in data involves identifying and handling redundant entries that may distort analysis or lead to incorrect conclusions."
   ]
  },
  {
   "cell_type": "code",
   "execution_count": 593,
   "metadata": {},
   "outputs": [
    {
     "name": "stdout",
     "output_type": "stream",
     "text": [
      "<class 'pandas.core.frame.DataFrame'>\n",
      "Index: 2610 entries, 1 to 4206\n",
      "Data columns (total 11 columns):\n",
      " #   Column         Non-Null Count  Dtype  \n",
      "---  ------         --------------  -----  \n",
      " 0   business_id    2610 non-null   object \n",
      " 1   cool           2608 non-null   object \n",
      " 2   date           2610 non-null   object \n",
      " 3   funny          2610 non-null   int64  \n",
      " 4   review_id      2610 non-null   object \n",
      " 5   stars          2607 non-null   float64\n",
      " 6   text           2610 non-null   object \n",
      " 7   useful         2610 non-null   int64  \n",
      " 8   user_id        2610 non-null   object \n",
      " 9   review_length  2610 non-null   int64  \n",
      " 10  Sentiment      2610 non-null   object \n",
      "dtypes: float64(1), int64(3), object(7)\n",
      "memory usage: 244.7+ KB\n"
     ]
    }
   ],
   "source": [
    "df_yelp.info()"
   ]
  },
  {
   "cell_type": "code",
   "execution_count": 14,
   "metadata": {},
   "outputs": [
    {
     "data": {
      "application/vnd.microsoft.datawrangler.viewer.v0+json": {
       "columns": [
        {
         "name": "index",
         "rawType": "bool",
         "type": "boolean"
        },
        {
         "name": "count",
         "rawType": "int64",
         "type": "integer"
        }
       ],
       "ref": "679337d0-f037-4eb5-ad71-a693346bb515",
       "rows": [
        [
         "False",
         "2277"
        ],
        [
         "True",
         "333"
        ]
       ],
       "shape": {
        "columns": 1,
        "rows": 2
       }
      },
      "text/plain": [
       "False    2277\n",
       "True      333\n",
       "Name: count, dtype: int64"
      ]
     },
     "execution_count": 14,
     "metadata": {},
     "output_type": "execute_result"
    }
   ],
   "source": [
    "# check for duplicated values \n",
    "df_yelp.duplicated().value_counts()\n",
    "\n"
   ]
  },
  {
   "cell_type": "code",
   "execution_count": 595,
   "metadata": {},
   "outputs": [
    {
     "data": {
      "text/html": [
       "<div>\n",
       "<style scoped>\n",
       "    .dataframe tbody tr th:only-of-type {\n",
       "        vertical-align: middle;\n",
       "    }\n",
       "\n",
       "    .dataframe tbody tr th {\n",
       "        vertical-align: top;\n",
       "    }\n",
       "\n",
       "    .dataframe thead th {\n",
       "        text-align: right;\n",
       "    }\n",
       "</style>\n",
       "<table border=\"1\" class=\"dataframe\">\n",
       "  <thead>\n",
       "    <tr style=\"text-align: right;\">\n",
       "      <th></th>\n",
       "      <th>business_id</th>\n",
       "      <th>cool</th>\n",
       "      <th>date</th>\n",
       "      <th>funny</th>\n",
       "      <th>review_id</th>\n",
       "      <th>stars</th>\n",
       "      <th>text</th>\n",
       "      <th>useful</th>\n",
       "      <th>user_id</th>\n",
       "      <th>review_length</th>\n",
       "      <th>Sentiment</th>\n",
       "    </tr>\n",
       "  </thead>\n",
       "  <tbody>\n",
       "    <tr>\n",
       "      <th>4252</th>\n",
       "      <td>fIuquIgWrkNEM5yvYSHPgw</td>\n",
       "      <td>2</td>\n",
       "      <td>2014-08-05</td>\n",
       "      <td>0</td>\n",
       "      <td>X4glBKsOvs6fgjHNJ0IUjw</td>\n",
       "      <td>5.0</td>\n",
       "      <td>What a compassionate and thorough professional...</td>\n",
       "      <td>3</td>\n",
       "      <td>xDjaGtx-TZUDdUxRKJnKCA</td>\n",
       "      <td>72</td>\n",
       "      <td>Positive</td>\n",
       "    </tr>\n",
       "    <tr>\n",
       "      <th>3028</th>\n",
       "      <td>_JD_U3pZDynB6l8swzVlQA</td>\n",
       "      <td>0</td>\n",
       "      <td>2017-12-17</td>\n",
       "      <td>0</td>\n",
       "      <td>iuVHqEglBCmL1lAbw8B2Ow</td>\n",
       "      <td>5.0</td>\n",
       "      <td>Had to switch barbers because I moved and the ...</td>\n",
       "      <td>0</td>\n",
       "      <td>WBKGxL53Tcq2_CkPavBYQA</td>\n",
       "      <td>93</td>\n",
       "      <td>Positive</td>\n",
       "    </tr>\n",
       "    <tr>\n",
       "      <th>3046</th>\n",
       "      <td>yQUXMWSA8H7wvkLa4iCD8g</td>\n",
       "      <td>0</td>\n",
       "      <td>2014-08-28</td>\n",
       "      <td>0</td>\n",
       "      <td>KmKCR_cHmAYA12Uy3XPHCA</td>\n",
       "      <td>2.0</td>\n",
       "      <td>Rude waitress and slow service. No offers for ...</td>\n",
       "      <td>1</td>\n",
       "      <td>KeYB7tU5F5PFb7X1QoWJ6Q</td>\n",
       "      <td>78</td>\n",
       "      <td>Negative</td>\n",
       "    </tr>\n",
       "    <tr>\n",
       "      <th>2322</th>\n",
       "      <td>1lLJDy73uBp_I2LJ0B0Fkw</td>\n",
       "      <td>1</td>\n",
       "      <td>2011-09-09</td>\n",
       "      <td>0</td>\n",
       "      <td>03dNKEDriDeZ8poYbiNyxQ</td>\n",
       "      <td>5.0</td>\n",
       "      <td>Was here for a party last weekend and had a bl...</td>\n",
       "      <td>0</td>\n",
       "      <td>ftLmo96CeyaNcVqHleDSHw</td>\n",
       "      <td>27</td>\n",
       "      <td>Positive</td>\n",
       "    </tr>\n",
       "    <tr>\n",
       "      <th>794</th>\n",
       "      <td>XXW_OFaYQkkGOGniujZFHg</td>\n",
       "      <td>0</td>\n",
       "      <td>2013-12-04</td>\n",
       "      <td>0</td>\n",
       "      <td>XxsMdJl8OTgeq5iEhp4JLQ</td>\n",
       "      <td>5.0</td>\n",
       "      <td>this is for the fireside lounge.\\r\\ngreat plac...</td>\n",
       "      <td>1</td>\n",
       "      <td>D1_nrBr4dOrs7M82OaBRwQ</td>\n",
       "      <td>37</td>\n",
       "      <td>Positive</td>\n",
       "    </tr>\n",
       "    <tr>\n",
       "      <th>1851</th>\n",
       "      <td>8XZ4X5WUyM1sWscObramwQ</td>\n",
       "      <td>0</td>\n",
       "      <td>2015-09-26</td>\n",
       "      <td>0</td>\n",
       "      <td>Y0npX3vZ1yp9RziQ-S-Djw</td>\n",
       "      <td>3.0</td>\n",
       "      <td>Boy for a Saturday they sure are slow! 13 peop...</td>\n",
       "      <td>0</td>\n",
       "      <td>uU_ol_n14rgh8kuuZ--WSQ</td>\n",
       "      <td>56</td>\n",
       "      <td>Negative</td>\n",
       "    </tr>\n",
       "    <tr>\n",
       "      <th>4593</th>\n",
       "      <td>7xn6RDKmCanq2C8Fn-FNgg</td>\n",
       "      <td>0</td>\n",
       "      <td>2015-11-08</td>\n",
       "      <td>0</td>\n",
       "      <td>IUbUpA1HznQZY8Ni8dF1tw</td>\n",
       "      <td>5.0</td>\n",
       "      <td>Honestly jill the owner absolutely gives the b...</td>\n",
       "      <td>0</td>\n",
       "      <td>2Eq5oRG-5dHajsPa2RIyEw</td>\n",
       "      <td>36</td>\n",
       "      <td>Positive</td>\n",
       "    </tr>\n",
       "    <tr>\n",
       "      <th>2894</th>\n",
       "      <td>xVEtGucSRLk5pxxN0t4i6g</td>\n",
       "      <td>1</td>\n",
       "      <td>2009-06-09</td>\n",
       "      <td>0</td>\n",
       "      <td>9bfnqemozlvKzbmc8gbItw</td>\n",
       "      <td>5.0</td>\n",
       "      <td>The best piece of meat I have ever had!!! This...</td>\n",
       "      <td>1</td>\n",
       "      <td>r2hoX58seF3kwP-U2W__QA</td>\n",
       "      <td>59</td>\n",
       "      <td>Positive</td>\n",
       "    </tr>\n",
       "    <tr>\n",
       "      <th>4129</th>\n",
       "      <td>YCEZLECK9IToE8Mysorbhw</td>\n",
       "      <td>0</td>\n",
       "      <td>2013-01-03</td>\n",
       "      <td>0</td>\n",
       "      <td>-1a7DLqgCV_s8Inzr0T7Dw</td>\n",
       "      <td>4.0</td>\n",
       "      <td>Very small portions but good food nonetheless....</td>\n",
       "      <td>0</td>\n",
       "      <td>INbqkFXtHeCdEP_wPp2dUA</td>\n",
       "      <td>21</td>\n",
       "      <td>Positive</td>\n",
       "    </tr>\n",
       "    <tr>\n",
       "      <th>2953</th>\n",
       "      <td>0yAJCh0TBZcnZkdZWZ6bVQ</td>\n",
       "      <td>0</td>\n",
       "      <td>2016-01-18</td>\n",
       "      <td>0</td>\n",
       "      <td>qrzJrDPyfqP7djhb6sxb3A</td>\n",
       "      <td>4.0</td>\n",
       "      <td>i've been going for over a year. great service...</td>\n",
       "      <td>0</td>\n",
       "      <td>Y5DIwt-653VndVu53ATpLQ</td>\n",
       "      <td>37</td>\n",
       "      <td>Positive</td>\n",
       "    </tr>\n",
       "    <tr>\n",
       "      <th>1071</th>\n",
       "      <td>EjYGxyksao-Jhw86tIAiYQ</td>\n",
       "      <td>0</td>\n",
       "      <td>2009-11-28</td>\n",
       "      <td>0</td>\n",
       "      <td>498PnbjX_IdBdjIVnegeJg</td>\n",
       "      <td>4.0</td>\n",
       "      <td>The Roast Pork was crispy and is better than S...</td>\n",
       "      <td>0</td>\n",
       "      <td>bsH9WdGVrFOjMlpDBNkWIA</td>\n",
       "      <td>55</td>\n",
       "      <td>Positive</td>\n",
       "    </tr>\n",
       "    <tr>\n",
       "      <th>311</th>\n",
       "      <td>gqdqnFg2lYeSyS20q2ZK_Q</td>\n",
       "      <td>0</td>\n",
       "      <td>2014-04-14</td>\n",
       "      <td>1</td>\n",
       "      <td>caHQiDwI7N9GyFRfOeOk5Q</td>\n",
       "      <td>1.0</td>\n",
       "      <td>I'm no sure if we got a bad box or not...but t...</td>\n",
       "      <td>0</td>\n",
       "      <td>KA3YwBSc1oqe7SzHErshJA</td>\n",
       "      <td>54</td>\n",
       "      <td>Negative</td>\n",
       "    </tr>\n",
       "    <tr>\n",
       "      <th>3726</th>\n",
       "      <td>DDlE4BTZDdbBmoZkIVRuxQ</td>\n",
       "      <td>0</td>\n",
       "      <td>2017-04-28</td>\n",
       "      <td>0</td>\n",
       "      <td>AlxZZp61yjv89vzHkR9BPw</td>\n",
       "      <td>5.0</td>\n",
       "      <td>Love all the staff and dentist here! Like fami...</td>\n",
       "      <td>0</td>\n",
       "      <td>tOIGjNwEkjAPA22Kc7XoLg</td>\n",
       "      <td>25</td>\n",
       "      <td>Positive</td>\n",
       "    </tr>\n",
       "    <tr>\n",
       "      <th>2217</th>\n",
       "      <td>UjvFjN1Aqp-pysEvpjelMg</td>\n",
       "      <td>0</td>\n",
       "      <td>2017-01-13</td>\n",
       "      <td>0</td>\n",
       "      <td>AXEe7ashu4GOMRX-oEjTGw</td>\n",
       "      <td>5.0</td>\n",
       "      <td>What else can I say about Mountain Park Chiro ...</td>\n",
       "      <td>0</td>\n",
       "      <td>VYU6ZQP58KkgqL2_o2QQhA</td>\n",
       "      <td>34</td>\n",
       "      <td>Positive</td>\n",
       "    </tr>\n",
       "    <tr>\n",
       "      <th>4863</th>\n",
       "      <td>vkQrIXyeAn4GrCnrk2haRw</td>\n",
       "      <td>0</td>\n",
       "      <td>2016-06-01</td>\n",
       "      <td>0</td>\n",
       "      <td>PozbovkjtUP8Gsw03qlglw</td>\n",
       "      <td>5.0</td>\n",
       "      <td>Always on-time and professional! The technicia...</td>\n",
       "      <td>0</td>\n",
       "      <td>UuhXs5GmOx9BEdLGJUXyEA</td>\n",
       "      <td>27</td>\n",
       "      <td>Positive</td>\n",
       "    </tr>\n",
       "  </tbody>\n",
       "</table>\n",
       "</div>"
      ],
      "text/plain": [
       "                 business_id cool        date  funny               review_id  \\\n",
       "4252  fIuquIgWrkNEM5yvYSHPgw    2  2014-08-05      0  X4glBKsOvs6fgjHNJ0IUjw   \n",
       "3028  _JD_U3pZDynB6l8swzVlQA    0  2017-12-17      0  iuVHqEglBCmL1lAbw8B2Ow   \n",
       "3046  yQUXMWSA8H7wvkLa4iCD8g    0  2014-08-28      0  KmKCR_cHmAYA12Uy3XPHCA   \n",
       "2322  1lLJDy73uBp_I2LJ0B0Fkw    1  2011-09-09      0  03dNKEDriDeZ8poYbiNyxQ   \n",
       "794   XXW_OFaYQkkGOGniujZFHg    0  2013-12-04      0  XxsMdJl8OTgeq5iEhp4JLQ   \n",
       "1851  8XZ4X5WUyM1sWscObramwQ    0  2015-09-26      0  Y0npX3vZ1yp9RziQ-S-Djw   \n",
       "4593  7xn6RDKmCanq2C8Fn-FNgg    0  2015-11-08      0  IUbUpA1HznQZY8Ni8dF1tw   \n",
       "2894  xVEtGucSRLk5pxxN0t4i6g    1  2009-06-09      0  9bfnqemozlvKzbmc8gbItw   \n",
       "4129  YCEZLECK9IToE8Mysorbhw    0  2013-01-03      0  -1a7DLqgCV_s8Inzr0T7Dw   \n",
       "2953  0yAJCh0TBZcnZkdZWZ6bVQ    0  2016-01-18      0  qrzJrDPyfqP7djhb6sxb3A   \n",
       "1071  EjYGxyksao-Jhw86tIAiYQ    0  2009-11-28      0  498PnbjX_IdBdjIVnegeJg   \n",
       "311   gqdqnFg2lYeSyS20q2ZK_Q    0  2014-04-14      1  caHQiDwI7N9GyFRfOeOk5Q   \n",
       "3726  DDlE4BTZDdbBmoZkIVRuxQ    0  2017-04-28      0  AlxZZp61yjv89vzHkR9BPw   \n",
       "2217  UjvFjN1Aqp-pysEvpjelMg    0  2017-01-13      0  AXEe7ashu4GOMRX-oEjTGw   \n",
       "4863  vkQrIXyeAn4GrCnrk2haRw    0  2016-06-01      0  PozbovkjtUP8Gsw03qlglw   \n",
       "\n",
       "      stars                                               text  useful  \\\n",
       "4252    5.0  What a compassionate and thorough professional...       3   \n",
       "3028    5.0  Had to switch barbers because I moved and the ...       0   \n",
       "3046    2.0  Rude waitress and slow service. No offers for ...       1   \n",
       "2322    5.0  Was here for a party last weekend and had a bl...       0   \n",
       "794     5.0  this is for the fireside lounge.\\r\\ngreat plac...       1   \n",
       "1851    3.0  Boy for a Saturday they sure are slow! 13 peop...       0   \n",
       "4593    5.0  Honestly jill the owner absolutely gives the b...       0   \n",
       "2894    5.0  The best piece of meat I have ever had!!! This...       1   \n",
       "4129    4.0  Very small portions but good food nonetheless....       0   \n",
       "2953    4.0  i've been going for over a year. great service...       0   \n",
       "1071    4.0  The Roast Pork was crispy and is better than S...       0   \n",
       "311     1.0  I'm no sure if we got a bad box or not...but t...       0   \n",
       "3726    5.0  Love all the staff and dentist here! Like fami...       0   \n",
       "2217    5.0  What else can I say about Mountain Park Chiro ...       0   \n",
       "4863    5.0  Always on-time and professional! The technicia...       0   \n",
       "\n",
       "                     user_id  review_length Sentiment  \n",
       "4252  xDjaGtx-TZUDdUxRKJnKCA             72  Positive  \n",
       "3028  WBKGxL53Tcq2_CkPavBYQA             93  Positive  \n",
       "3046  KeYB7tU5F5PFb7X1QoWJ6Q             78  Negative  \n",
       "2322  ftLmo96CeyaNcVqHleDSHw             27  Positive  \n",
       "794   D1_nrBr4dOrs7M82OaBRwQ             37  Positive  \n",
       "1851  uU_ol_n14rgh8kuuZ--WSQ             56  Negative  \n",
       "4593  2Eq5oRG-5dHajsPa2RIyEw             36  Positive  \n",
       "2894  r2hoX58seF3kwP-U2W__QA             59  Positive  \n",
       "4129  INbqkFXtHeCdEP_wPp2dUA             21  Positive  \n",
       "2953  Y5DIwt-653VndVu53ATpLQ             37  Positive  \n",
       "1071  bsH9WdGVrFOjMlpDBNkWIA             55  Positive  \n",
       "311   KA3YwBSc1oqe7SzHErshJA             54  Negative  \n",
       "3726  tOIGjNwEkjAPA22Kc7XoLg             25  Positive  \n",
       "2217  VYU6ZQP58KkgqL2_o2QQhA             34  Positive  \n",
       "4863  UuhXs5GmOx9BEdLGJUXyEA             27  Positive  "
      ]
     },
     "execution_count": 595,
     "metadata": {},
     "output_type": "execute_result"
    }
   ],
   "source": [
    "# View duplicates \n",
    "df_yelp[df_yelp.duplicated()].head(15)\n",
    "\n"
   ]
  },
  {
   "cell_type": "code",
   "execution_count": 16,
   "metadata": {},
   "outputs": [
    {
     "data": {
      "application/vnd.microsoft.datawrangler.viewer.v0+json": {
       "columns": [
        {
         "name": "index",
         "rawType": "int64",
         "type": "integer"
        },
        {
         "name": "business_id",
         "rawType": "object",
         "type": "string"
        },
        {
         "name": "cool",
         "rawType": "object",
         "type": "unknown"
        },
        {
         "name": "date",
         "rawType": "object",
         "type": "string"
        },
        {
         "name": "funny",
         "rawType": "int64",
         "type": "integer"
        },
        {
         "name": "review_id",
         "rawType": "object",
         "type": "string"
        },
        {
         "name": "stars",
         "rawType": "float64",
         "type": "float"
        },
        {
         "name": "text",
         "rawType": "object",
         "type": "string"
        },
        {
         "name": "useful",
         "rawType": "int64",
         "type": "integer"
        },
        {
         "name": "user_id",
         "rawType": "object",
         "type": "string"
        },
        {
         "name": "review_length",
         "rawType": "int64",
         "type": "integer"
        },
        {
         "name": "Sentiment",
         "rawType": "object",
         "type": "string"
        }
       ],
       "ref": "38de89b1-e5c6-4d64-b6c1-9ec38a38e25c",
       "rows": [
        [
         "1",
         "pomGBqfbxcqPv14c3XH-ZQ",
         "0",
         "2012-11-13",
         "0",
         "dDl8zu1vWPdKGihJrwQbpw",
         "5.0",
         "I love this place! My fiance And I go here atleast once a week. The portions are huge! Food is amazing. I love their carne asada. They have great lunch specials... Leticia is super nice and cares about what you think of her restaurant. You have to try their cheese enchiladas too the sauce is different And amazing!!!",
         "0",
         "msQe1u7Z_XuqjGoqhB0J5g",
         "58",
         "Positive"
        ],
        [
         "2",
         "jtQARsP6P-LbkyjbO1qNGg",
         "1",
         "2014-10-23",
         "1",
         "LZp4UX5zK3e-c5ZGSeo3kA",
         "1.0",
         "Terrible. Dry corn bread. Rib tips were all fat and mushy and had no flavor. If you want bbq in this neighborhood go to john mulls roadkill grill. Trust me.",
         "3",
         "msQe1u7Z_XuqjGoqhB0J5g",
         "30",
         "Negative"
        ],
        [
         "4",
         "Ums3gaP2qM3W1XcA5r6SsQ",
         "0",
         "2014-09-05",
         "0",
         "jsDu6QEJHbwP2Blom1PLCA",
         "5.0",
         "Delicious healthy food. The steak is amazing. Fish and pork are awesome too. Service is above and beyond. Not a bad thing to say about this place. Worth every penny!",
         "0",
         "msQe1u7Z_XuqjGoqhB0J5g",
         "30",
         "Positive"
        ],
        [
         "5",
         "vgfcTvK81oD4r50NMjU2Ag",
         "0",
         "2011-02-25",
         "0",
         "pfavA0hr3nyqO61oupj-lA",
         null,
         "This place sucks. The customer service is horrible. They dont serve food unless you order a pizza from a neighboring restaurant. Who does that? They dont control their crowd. Many times I've gone I've seen fights. The bartenders suck - I've almost got in a fight with one because she was a complete bitch. Refused to serve me a drink because she was \"busy\" celebrating her friends birthday BEHIND THE BAR. This place is ridiculous. I will NEVER go there again.. EVER.",
         "2",
         "msQe1u7Z_XuqjGoqhB0J5g",
         "82",
         "Negative"
        ],
        [
         "10",
         "yFumR3CWzpfvTH2FCthvVw",
         "0",
         "2016-06-15",
         "0",
         "STiFMww2z31siPY7BWNC2g",
         "5.0",
         "I have been an Emerald Club member for a number of years.  I have always been very satisfied with their vehicles and customer service.  This recent visit to Pittsburgh was no exception.",
         "0",
         "TlvV-xJhmh7LCwJYXkV-cg",
         "32",
         "Positive"
        ],
        [
         "11",
         "UBv8heCQR0RPnUQG0zkXIQ",
         "0",
         "2016-09-23",
         "0",
         "HkYqGb0Gplmmk-xlHTRBoA",
         "1.0",
         "The score should be negative. Its HORRIBLE. The have like 6-7 items in their buffet. No naans or salad. The items were either bland or stale. My friend had a potato curry which was completely stale without salt. The biriyani was okayish but bland. Would never recommend to anyone.",
         "0",
         "NhOc64RsrTT1Dls50yYW8g",
         "49",
         "Negative"
        ],
        [
         "12",
         "hdgYnadxg0GANhWOJabr2g",
         "0",
         "2014-08-23",
         "0",
         "RgqWdZA4xR023iP3T6jVfA",
         "5.0",
         "I went there twice and I am pretty happy with my haircut. The people are  really friendly. Would definitely go again.",
         "0",
         "NhOc64RsrTT1Dls50yYW8g",
         "21",
         "Positive"
        ],
        [
         "19",
         "gZGsReG0VeX4uKViHTB9EQ",
         "0",
         "2017-08-16",
         "0",
         "51RHs_V_fjuistnuKxNpEg",
         null,
         "Finally! After trying many Mexican restaurants all thru Phoenix & Scottsdale we found an authentic Mexican restaurant that was AMAZING! Fresh tortilla chip & salsa ready and waiting at the table when we sat down. Food was incredible! I ordered the combo with a beef tamale with red sauce & chicken enchilada. Both were full of meat from beginning to end & had so much flavor! Highly recommend this place",
         "0",
         "5ngpW5tf3ep680eG1HxHzA",
         "70",
         "Negative"
        ],
        [
         "25",
         "f-v1fvtnbdw_QQRsCnwH-g",
         "0",
         "2017-11-18",
         "0",
         "alI_kRKyEHfdHibYGgtJbw",
         "1.0",
         "I have to write a review on the Fractured Prune. First off I love doughnuts second I used to work in a bakery. So I know a little about the almighty doughnut. I was there this past Thursday night at Westgate where I was having a nice dinner at Opah Life. I wanted a little desert so I went to this doughnut shop it seemed clean enough so I made my selections and took them home. Mistake should have eaten one there I would have ask for my money back. I took a bite out of each on to confirm what I thought they were the worst doughnuts I have ever had. Horrible not sure if the oils was rancid or not hot enough either way eat at your own risk.",
         "0",
         "Fc_nb6N6Sdurqb-rwsY1Bw",
         "131",
         "Negative"
        ],
        [
         "26",
         "yz66FIUPDKGhILDWzRLeKg",
         "0",
         "2017-11-18",
         "0",
         "85DRIjwPJOTb4q0qOlBstw",
         "1.0",
         "I wish i could tell you all about the food but there was problem. My friend and went there for dinner we were seated quickly unfortunately it was in middle of the empty dinning room so we asked to be moved to the side which we were. Upon sitting down we were told we could only have one of the very small table tops there were two together so the hostess told us the manager said we couldn't use two table tops in the empty restaurant. So we got up and left. With the manager chasing us blaming the hostess for the the ridiculous action. Needles to say we will never return.",
         "1",
         "Fc_nb6N6Sdurqb-rwsY1Bw",
         "112",
         "Negative"
        ],
        [
         "27",
         "6qDRqHWqf0EeHupSUEBfKg",
         "0",
         "2015-12-10",
         "0",
         "GbiLIKmQPVCBtdNkTVdVSA",
         "5.0",
         "Wonderful! One of my favorite places. BBQ is expertly cooked and service is always prompt. The price is right.",
         "0",
         "G22ITfVETYHtIhnn5lLRrQ",
         "19",
         "Positive"
        ],
        [
         "28",
         "7AlULGZI1pHt0imODsqdkg",
         "0",
         "2012-02-12",
         "0",
         "UaHgsL0xS4UnJ_iKqeOk_w",
         "5.0",
         "The price is about the same as Quizinos. The sandwich was great! They have a live musician so it is kind of loud. It was a good experience.",
         "0",
         "FjH3TH8OvHGLNEbzdEYlNg",
         "28",
         "Positive"
        ],
        [
         "29",
         "th4pZ5LkoIIkb1Vmu_m2DA",
         "0",
         "2012-02-12",
         "0",
         "c4zzAD1S6721Fh-acCBy-g",
         "4.0",
         "The food was ok. You get a lot of food for the price. There is bot a lot of seating.",
         "0",
         "FjH3TH8OvHGLNEbzdEYlNg",
         "20",
         "Positive"
        ],
        [
         "30",
         "nsSfCKW9KDB4COj9bzXApw",
         "0",
         "2012-02-12",
         "0",
         "TTBwocu2mvqJFJrwmJN0Sw",
         null,
         "The staff were friendly and helpful. The food was fabulous. Our whole experience was awesome!",
         "1",
         "FjH3TH8OvHGLNEbzdEYlNg",
         "15",
         "Negative"
        ],
        [
         "31",
         "cP8ErpZfRzdVR5Fvks-pnQ",
         "0",
         "2012-02-12",
         "0",
         "-CresnnXQSHrQ85Ogm-Pqw",
         "5.0",
         "The staff were very helpful. We painted pottery which took about 2 hours. It was a lot of fun and we received our pottery with in 3 days.",
         "0",
         "FjH3TH8OvHGLNEbzdEYlNg",
         "28",
         "Positive"
        ],
        [
         "32",
         "Edr6SafmQrZa6CcFuItoqg",
         "0",
         "2014-06-03",
         "0",
         "U04YgYr4PiGUxB46J4xapg",
         "2.0",
         "Limited vegetarian options. Ordered Greek salad but it was sub-par and priced at a ridiculous (almost) thirteen dollars. Will be skipping this joint when traveling through this airport the next time.",
         "0",
         "B7Fh30KQT1xPSGt_pIhRRA",
         "31",
         "Negative"
        ],
        [
         "35",
         "SpJYus_184M2TdT7t52rIA",
         "0",
         "2016-11-18",
         "0",
         "s9cpVj40VR_yl0lXbZQe6w",
         "5.0",
         "I trust my vehicles here. Comparable prices. Mike can always give me good advice. Work always done on time...clean. Never had to send back with any problems. My cars run great.",
         "0",
         "zx_Op2OAOM_fRic9tU-jqA",
         "31",
         "Positive"
        ],
        [
         "40",
         "qdC2h3MqCNussc5lhzL7gg",
         "0",
         "2015-11-05",
         "0",
         "AJ0IglpYAp2D0daOlVGIdg",
         "1.0",
         "This place doesn't even deserve 1 star. Horrible service! The service manager was rude and unprofessional. He shouldn't even have a job after the way he spoke to customers. Marcus Lamonis needs to step in and end this location. Repairs that were suppose to be done never were completed.",
         "18",
         "Ka7TIp74VHSa90rfdg4_2g",
         "49",
         "Negative"
        ],
        [
         "41",
         "XgRDG9E_WLEbl8S-QUqQkQ",
         "0",
         "2015-11-05",
         "0",
         "5D_MsAJHrMa8QKkpE3g1Sg",
         "5.0",
         "The butter burger was cooked perfectly and juicy! The ice cream here is the best I've had! This location is very clean and staff was friendly!",
         "0",
         "Ka7TIp74VHSa90rfdg4_2g",
         "26",
         "Positive"
        ],
        [
         "42",
         "awgoBwuhzlLGKEIverTGjQ",
         "0",
         "2017-01-21",
         "0",
         "5bWN_IN8MQGjJ6_ZIXffDw",
         "5.0",
         "Best location ever! I love love love the manager Jess. She's super great and always helpful. She always helps me find what I'm looking for and has the best suggestions for gifts. I will drive the half hour out of the way to go to this location!",
         "0",
         "yyPHK6khPa4-ErV9U32x3A",
         "47",
         "Positive"
        ],
        [
         "74",
         "iO3GuIiZxzv-iETGVnoeVA",
         "0",
         "2016-11-06",
         "0",
         "RW_mYzHYfdqn6g7xVgIcKg",
         "4.0",
         "This was a real fun time. Lots of laughs and entertainment. Love that the cast interactions with all guests in a semi intimate setting. Each course is delivered between scenes and you're given time to eat so you don't miss the show. \r\n\r\nFood was pretty decent as well. Like the salad dressing and love the sauce on the chicken. Bring cash for the bar and especially for the tip. Cast/staff work hard and deserve it :)\r\n\r\n4 stars since I'm bummed there were no mojitos.",
         "0",
         "0pf5VuzE4_1pwj5NJHG5TQ",
         "85",
         "Positive"
        ],
        [
         "79",
         "yz3KtngrF2PQrif8JW7gdw",
         null,
         "2016-05-28",
         "0",
         "SLA1YP9doUc8h-6Kd34QmA",
         "1.0",
         "Horrible. The smart ones have closed their account. Tellers don't know how to read a day drop envelope that clearly reads MORTGAGE PAYMENT in front and back with the full loan number on it. Money was sitting in the account and in the meantime my mortgage was late. This has happened 4 times. 4 TIMES. \r\n\r\nManager doesn't take accountability for the lack of attention to detail of his staff or their errors.  Tried to blame me because they didnt believe I put anything on the envelope. Account numbers and account holder names sitting all over Christopher the teller's desk. People wonder why your accounts are compromised? Manager saw it and did nothing. \r\n\r\nBe smart take you money out and run.",
         "1",
         "0pf5VuzE4_1pwj5NJHG5TQ",
         "120",
         "Negative"
        ],
        [
         "83",
         "T2XdzAcj0M_kBD9_BHfZlw",
         "0",
         "2016-05-08",
         "0",
         "qxPiEGIHy5xyVy78avH5Rg",
         "4.0",
         "Love the 'old school' ambiance. Friendly staff. Have been here several times over the last 5 years and I never left dissatisfied. \r\n\r\nCome for the popcorn and drinks.",
         "1",
         "0pf5VuzE4_1pwj5NJHG5TQ",
         "28",
         "Positive"
        ],
        [
         "92",
         "AtbXj3Rg1GF6Dj5zu6KCDg",
         "0",
         "2012-10-11",
         "0",
         "q6ij-nz5d_hvdjuelho1pQ",
         "5.0",
         "Better service and much better prices than the dealership. These guys take great care of your car without sticking it to you price wise like the dealership does. Won't go anywhere else",
         "0",
         "WnM2AmNIint5b5f688nmPg",
         "32",
         "Positive"
        ],
        [
         "95",
         "6tSvz_21BMo3a4GaItwa0g",
         "0",
         "2017-04-08",
         "0",
         "66FSK2J1uHJqVI1Z8QiFGw",
         "4.0",
         "I love how they have no rice sushi options. They have a pretty good list of sushi and the sauces that they use for it. Food came out at a timely manner and service was not bad.",
         "0",
         "Yy_iGXxLpL6tYDQoE-6XVg",
         "37",
         "Positive"
        ],
        [
         "102",
         "aQ222ydz_GSRZV66xNt4kQ",
         "0",
         "2017-04-09",
         "1",
         "AxhxGl41DItKjqkzYtr53Q",
         "1.0",
         "2 of my girlfriends recommended this place so all 3 of us went.... I made sure to have an appetite when I got here..... sushi was mediocre.... what made it TERRIBLE was the service..... we were there for 2 and a half hours because our orders took about 30 min to come out whether it was appetizers or sushi.... our server's excuse was because the bar was full....? So you're telling me your main dining area (which was actually also pretty full ) should SUFFER just because the bar was full????? \r\n\r\n**someone replied to this comment saying to come on a Monday when it's not busy... umm so I have to come a different day to get even mediocre service? No thanks...",
         "1",
         "Yy_iGXxLpL6tYDQoE-6XVg",
         "122",
         "Negative"
        ],
        [
         "172",
         "1SnYDvrd02FXSXnIgz-9DQ",
         "0",
         "2010-11-17",
         "4",
         "8enQ9Fj-sWkWub4AZQUzeQ",
         "1.0",
         "Huge Apple Danishes! Unfortunatley huge doesnt mean better. \r\nSo what does Westmall Donuts have to offer? Here you can eat a fattening overpriced danish in a horribly old and decrepid space and wash it all down with a lousy tasting coffee.\r\nDo yourself and your wallet a favour and avoid it!",
         "0",
         "YHWsLBS8jzZiPjKHMFOaAA",
         "51",
         "Negative"
        ],
        [
         "179",
         "YPa8t1631tlRQms0p331ZQ",
         "0",
         "2016-04-10",
         "0",
         "vCwlUF30mV7Eg5MCS3N39Q",
         "4.0",
         "What a nice and friendly person that answered the phone.  I was looking for a tree nut free cupcake she was unfortunately not able to help me but gave me great advice and was very willing to give me a few suggestions.",
         "1",
         "wMttR-7frrO-YzDsIiA4GQ",
         "42",
         "Positive"
        ],
        [
         "180",
         "eZCE1u_3ORlX8dHSVTjl9w",
         "Null",
         "2016-03-10",
         "1",
         "GuD3Og1PmJCqXAiWQe1xew",
         "4.0",
         "I have been here 3 1/2 years.   The staff is always smiling and helpful.   Yes it takes maintenance a little longer then they should but it seems like a large place for only 2 guys to handel.   The fitness center needs a little upgrade but I have lived at other places and this is a great place.  I see a few people complaining and name calling which I find childish.  If they hate it so much why don't they move.",
         "4",
         "wMttR-7frrO-YzDsIiA4GQ",
         "80",
         "Positive"
        ],
        [
         "182",
         "ruWTngdiC68O9la27hvvHw",
         "0",
         "2016-02-24",
         "0",
         "Tifm4ETlt4FXiuGwhq__lg",
         "4.0",
         "This place is not just a restaurant has a great bar and a outside deck with one of the best views of Las Vegas. The food is good and selections is limited. Drink are on the expensive side and it is a private club. I would recommend there steak with crab. It has a disco at night at 10 pm the space is small and can be crowded. I would recommend this place and I am going back again.",
         "1",
         "dQzQ4bN0Rnb8M-0LqTl3-g",
         "79",
         "Positive"
        ],
        [
         "183",
         "7KkgMcbVaetryW1wwpzvvA",
         "0",
         "2016-02-29",
         "0",
         "htV6dNmUqaXwCIRt7vfO5A",
         "4.0",
         "It great fast food and get large portions. It seem to be fresh and the server are friendly. I gone there many time and it alway good. I like their burritos usually it so big can only eat half and save the rest. I am recommending it to all my friends. You can choose what you want with any of the items on the menu.",
         "0",
         "dQzQ4bN0Rnb8M-0LqTl3-g",
         "65",
         "Positive"
        ],
        [
         "184",
         "bvGdqJ-SeGdIHX-HEabwlg",
         "0",
         "2016-05-29",
         "0",
         "AR_IDHl2P4kUVPB_tTsA6w",
         "4.0",
         "I went there a couple week ago. The service was great small place. I had there osso buco meat it was good so much could only eat half. Wine was good by the glass a Malbec. I and my friend had there seafood soup was very good. I would recommend you try this place",
         "0",
         "dQzQ4bN0Rnb8M-0LqTl3-g",
         "54",
         "Positive"
        ],
        [
         "185",
         "h1Jq1YlqPyD1mGSW0sjRaQ",
         null,
         "2016-03-07",
         "0",
         "JL6B_spdwG_gLMEdh4Z-Mg",
         "1.0",
         "I call them to switch to their service for both TV and Internet. They schedule a service Tech to come out to my home on Saturday between 12 and 2 pm. I was home to make sure I would be there when they arrived. 2 PM no one arrived it was on Saturday I tried to call there service. There office was closed and no way to get a hold of anyone. Now I still waited to 4 PM still no call finally I got a call but it said un know number. I got a message they were at my service box again no one was even close to my home. I called them Monday morning asking what was the problem they told me I could not get service for TV in my area really. After they had schedule a appointment and there customer service people did not even know they could not give me these services. I wasted a whole Saturday waiting for these people. Their customer service is horrible do not waist your time. Now I know why they have such a low rating.",
         "0",
         "dQzQ4bN0Rnb8M-0LqTl3-g",
         "187",
         "Negative"
        ],
        [
         "186",
         "9tLCuUmw3Tlco-tKPGkIWQ",
         "1",
         "2016-03-25",
         "0",
         "vPA9ZwuatQhnfu6WrG0mpw",
         "5.0",
         "Great fast food restaurant large portions. The food is good taste and great bargains. The service is good the restaurant is clean. I had the Teriyaki hot chicken with rice and steam vegetables. Had enough food for two meals would recommend this restaurant for familes",
         "1",
         "dQzQ4bN0Rnb8M-0LqTl3-g",
         "45",
         "Positive"
        ],
        [
         "188",
         "ICw43H7hrbSuXTjDBmJxbA",
         "1",
         "2016-02-29",
         "0",
         "RUoRwBWiYAZ7FhRMg_ibZA",
         "5.0",
         "I was just at their new store on Cheyenne on Sunday. I wanted a soft mattress Christine gave me a great selection. I told her I only wanted to spend up to $1200 dollars. I had more than 4 choices all were less than I had planned. I had checked other stores first and the mattress I got was equal or even better at half the price. They even gave me sheet and cover for the mattress as a bonus for shopping at the new store. I did not realize they also sold furniture pick up a full 5 piece bedroom set. It was just like the ones I had been looked at some of the bigger furniture stores again half the price. I going to tell all my friend check this store first.",
         "1",
         "dQzQ4bN0Rnb8M-0LqTl3-g",
         "134",
         "Positive"
        ],
        [
         "189",
         "_pBXtjN43eqMV0XZTz7nmw",
         "0",
         "2016-03-25",
         "0",
         "ohzlH9CWRuP8TehyfTUp6g",
         "4.0",
         "Its a nice club open air with swimming pools there are two levels of private areas overlooking the pools. The club and bar are small and the dance floor small. It great you have plenty of space where you can relax and talk. Best to go on warm nights total outdoors. Atmosphere is relax and recommend this club",
         "0",
         "dQzQ4bN0Rnb8M-0LqTl3-g",
         "58",
         "Positive"
        ],
        [
         "190",
         "3kdSl5mo9dWC4clrQjEDGg",
         "0",
         "2015-10-17",
         "1",
         "Bay72mIfR-yGKZf_S9xQeg",
         "4.0",
         "????????????????????????????????????\r\n?????7:30???\r\n?????????????\r\n?????????????????\r\n??????????????????!!\r\n\r\n2????????????????????",
         "0",
         "5oy_MM1skY1LvmdNNVVM5Q",
         "6",
         "Positive"
        ],
        [
         "191",
         "f4x1YBxkLrZg652xt2KR5g",
         "0",
         "2015-10-17",
         "0",
         "YeRRSIod4aDvNDQKvbSWnA",
         "3.0",
         "????????????????????\r\n???Link Hotel???????\r\n????????????????\r\n????×4 & ???×2 ?????????!!\r\n?????",
         "0",
         "5oy_MM1skY1LvmdNNVVM5Q",
         "9",
         "Negative"
        ],
        [
         "192",
         "DkYS3arLOhA8si5uUEmHOw",
         "0",
         "2015-10-17",
         "0",
         "zgQej4gg1vu8p85aP6ZsIg",
         "5.0",
         "????????????????????\r\n???????????????????????\r\n\r\n?????????????????????????\r\n????????????????????\r\n???????",
         "1",
         "5oy_MM1skY1LvmdNNVVM5Q",
         "5",
         "Positive"
        ],
        [
         "193",
         "fL-b760btOaGa85OJ9ut3w",
         "0",
         "2015-10-17",
         "0",
         "0VOZHe_tfbhW3YvsBf5yxw",
         "5.0",
         "???????????????????????????????????\r\nBest Vegas???????????????\r\n????????( _) ??????\r\n???...?\r\n???1??????2?????????\r\n????????????????????????????????????\r\n????????????????????????????????(*´`*)\r\n?????????????????????????????????",
         "2",
         "5oy_MM1skY1LvmdNNVVM5Q",
         "11",
         "Positive"
        ],
        [
         "196",
         "l4x5FFzfiCFrGN0S-uZbBQ",
         "0",
         "2016-01-07",
         "0",
         "4zThfSMxa6fxOf3L4LXctg",
         "5.0",
         "Great authentic addition to champaign. Dario and Alessio have done an incredible job and I can't wait to go back again and again!",
         "0",
         "N7Jy_9BnDckwKTBw44b0rA",
         "23",
         "Positive"
        ],
        [
         "260",
         "VoYF6KnSnnhZ2lI4D9O-KA",
         "0",
         "2016-01-02",
         "0",
         "g03YSyEswJF3XOVbJqe3QQ",
         "5.0",
         "The best beef kebab EVER!! The meat is so tender and juicey - just be careful not to touch the bottom of the metal skewer when it arrives - it's super hot. Make sure to also order the garlic sauce and red meat sauce for dipping. It's a warm atmosphere with a very friendly staff. I've gotten many friends hooked on this place. 5/5.",
         "0",
         "XLA3LkbfQfeA-VYO7Zgzyg",
         "64",
         "Positive"
        ],
        [
         "269",
         "qSsUXOWF9W4sekeHVekuug",
         "0",
         "2013-10-04",
         "0",
         "p2WnLi7Tj-2x9rqSOwHERg",
         "1.0",
         "Anyone looking to have their yard landscaped by this company WATCH OUT!!! This place is horrible to deal with and has NO communication skills!! My job was pushed back for weeks and nothing was communicated to me. On top of that I am now having to report them to my bank as fraud since they have yet to return the upfront money I gave them. Horrible horrible experience all the way around! I wouldn't even give them 1 star but that is the lowest it would allow me to select. I just hope my bank is able to get the money back soon from these rat b@stards!!",
         "5",
         "aD4iVmjokKSK8HDm-L-dlQ",
         "107",
         "Negative"
        ],
        [
         "273",
         "CHFw_V836nIKpWtqMP4E5g",
         "0",
         "2013-12-23",
         "0",
         "UC2474KYTL2DP1wR6qwvFQ",
         "3.0",
         "Food was very good but service is below par. Wasn't crowded at all but still took forever for someone to seat us. Just a person yelling across the room telling us \"Someone will seat us soon\" I recommend it for the food but don't be in a hurry to be seated.",
         "0",
         "JNRDWUE5exH2mGjSqbUF7Q",
         "51",
         "Negative"
        ],
        [
         "275",
         "XvuUYiJYAAiNC4AmdbBZ8g",
         "0",
         "2013-08-19",
         "0",
         "ziAMZGx8QInZjqlDG4qRCA",
         "5.0",
         "Me and my boyfriend live on the same block and we have to stop ourselves from going there every day. The food and service are amazing!!! It is homemade Indian food full of flavour and made fresh. The owners are lovely people and every time we go there we love spending sometime just chatting with them.",
         "0",
         "_0lqX3m25K6qEkbLlY4DLQ",
         "56",
         "Positive"
        ],
        [
         "280",
         "dNMYNKhAAKo5O4WfrAPzcQ",
         "0",
         "2016-02-03",
         "0",
         "QWWLdWa3srs0ibN8dnK6Aw",
         "5.0",
         "Very nice and modern dentist office with a top notch staff!  The experience definitely put my anxiety of going to the dentist at ease.",
         "0",
         "aGgv8QmMT-kpp_gy6mcjiA",
         "24",
         "Positive"
        ],
        [
         "282",
         "t5LFQy9h9IpWfFfcMwQT4w",
         "0",
         "2011-09-04",
         "1",
         "OOj9B9A_56rI7TEMYwYvhA",
         "5.0",
         "Other Auto shops need to go to these guys and take lessons!!! I went here with my son to get his car repaired....oil change and serpentine belt changed....first off...they have a special for the holiday ALL WORK HALF PRICE......and second...the did the work wihtin 15 minutes.....they were clean...mannerly and  helpful.....VERY KNOWLEDGABLE...other questions about the car were answered intelligently.\r\n\r\nFrom the manager to the ladies in the office...THESE GUYZ ROCK It out!!",
         "9",
         "nND2klG0KoIEvnrLyKzQTQ",
         "71",
         "Positive"
        ],
        [
         "283",
         "F1VasoCjLgA079A21nQIvA",
         "2",
         "2013-08-25",
         "0",
         "aefWon7MeIoGpsLG5iwZ5g",
         "5.0",
         "I have 3 competitive bird dogs as well as breed occasionally.  Dr Sondel was already the best vet I have had the pleasure of working with.  Now that he he has ventured out on his own he has taken vet care to a new level.  His new clinic rivals modern medical facilities for humans.   Nicest facility I have ever seen!  Jesse is for people that want the most advanced care with an honest/pragmatic approach.",
         "13",
         "FHwl6kaKdD5-KAnfVb_pKQ",
         "74",
         "Positive"
        ],
        [
         "284",
         "LhU-XsZ2YObJnP-5uiMIjA",
         "1",
         "2014-03-31",
         "0",
         "dnrcOZK4UXIXPy3Uf66xZA",
         "5.0",
         "Same as other habanero's.  Best damn quesadilla money can buy at a really affordable price.",
         "0",
         "FHwl6kaKdD5-KAnfVb_pKQ",
         "15",
         "Positive"
        ],
        [
         "286",
         "4XGjbI2Ggi-kdgt9eZR83w",
         "0",
         "2011-03-04",
         "0",
         "CXSBfX-4fCWGngtysdhPpQ",
         "3.0",
         "Safe bet for a cheap buffet .  Nothing blew me away but the price is right.  Nice service and cool fish tank.",
         "0",
         "FHwl6kaKdD5-KAnfVb_pKQ",
         "22",
         "Negative"
        ]
       ],
       "shape": {
        "columns": 11,
        "rows": 2277
       }
      },
      "text/html": [
       "<div>\n",
       "<style scoped>\n",
       "    .dataframe tbody tr th:only-of-type {\n",
       "        vertical-align: middle;\n",
       "    }\n",
       "\n",
       "    .dataframe tbody tr th {\n",
       "        vertical-align: top;\n",
       "    }\n",
       "\n",
       "    .dataframe thead th {\n",
       "        text-align: right;\n",
       "    }\n",
       "</style>\n",
       "<table border=\"1\" class=\"dataframe\">\n",
       "  <thead>\n",
       "    <tr style=\"text-align: right;\">\n",
       "      <th></th>\n",
       "      <th>business_id</th>\n",
       "      <th>cool</th>\n",
       "      <th>date</th>\n",
       "      <th>funny</th>\n",
       "      <th>review_id</th>\n",
       "      <th>stars</th>\n",
       "      <th>text</th>\n",
       "      <th>useful</th>\n",
       "      <th>user_id</th>\n",
       "      <th>review_length</th>\n",
       "      <th>Sentiment</th>\n",
       "    </tr>\n",
       "  </thead>\n",
       "  <tbody>\n",
       "    <tr>\n",
       "      <th>1</th>\n",
       "      <td>pomGBqfbxcqPv14c3XH-ZQ</td>\n",
       "      <td>0</td>\n",
       "      <td>2012-11-13</td>\n",
       "      <td>0</td>\n",
       "      <td>dDl8zu1vWPdKGihJrwQbpw</td>\n",
       "      <td>5.0</td>\n",
       "      <td>I love this place! My fiance And I go here atl...</td>\n",
       "      <td>0</td>\n",
       "      <td>msQe1u7Z_XuqjGoqhB0J5g</td>\n",
       "      <td>58</td>\n",
       "      <td>Positive</td>\n",
       "    </tr>\n",
       "    <tr>\n",
       "      <th>2</th>\n",
       "      <td>jtQARsP6P-LbkyjbO1qNGg</td>\n",
       "      <td>1</td>\n",
       "      <td>2014-10-23</td>\n",
       "      <td>1</td>\n",
       "      <td>LZp4UX5zK3e-c5ZGSeo3kA</td>\n",
       "      <td>1.0</td>\n",
       "      <td>Terrible. Dry corn bread. Rib tips were all fa...</td>\n",
       "      <td>3</td>\n",
       "      <td>msQe1u7Z_XuqjGoqhB0J5g</td>\n",
       "      <td>30</td>\n",
       "      <td>Negative</td>\n",
       "    </tr>\n",
       "    <tr>\n",
       "      <th>4</th>\n",
       "      <td>Ums3gaP2qM3W1XcA5r6SsQ</td>\n",
       "      <td>0</td>\n",
       "      <td>2014-09-05</td>\n",
       "      <td>0</td>\n",
       "      <td>jsDu6QEJHbwP2Blom1PLCA</td>\n",
       "      <td>5.0</td>\n",
       "      <td>Delicious healthy food. The steak is amazing. ...</td>\n",
       "      <td>0</td>\n",
       "      <td>msQe1u7Z_XuqjGoqhB0J5g</td>\n",
       "      <td>30</td>\n",
       "      <td>Positive</td>\n",
       "    </tr>\n",
       "    <tr>\n",
       "      <th>5</th>\n",
       "      <td>vgfcTvK81oD4r50NMjU2Ag</td>\n",
       "      <td>0</td>\n",
       "      <td>2011-02-25</td>\n",
       "      <td>0</td>\n",
       "      <td>pfavA0hr3nyqO61oupj-lA</td>\n",
       "      <td>NaN</td>\n",
       "      <td>This place sucks. The customer service is horr...</td>\n",
       "      <td>2</td>\n",
       "      <td>msQe1u7Z_XuqjGoqhB0J5g</td>\n",
       "      <td>82</td>\n",
       "      <td>Negative</td>\n",
       "    </tr>\n",
       "    <tr>\n",
       "      <th>10</th>\n",
       "      <td>yFumR3CWzpfvTH2FCthvVw</td>\n",
       "      <td>0</td>\n",
       "      <td>2016-06-15</td>\n",
       "      <td>0</td>\n",
       "      <td>STiFMww2z31siPY7BWNC2g</td>\n",
       "      <td>5.0</td>\n",
       "      <td>I have been an Emerald Club member for a numbe...</td>\n",
       "      <td>0</td>\n",
       "      <td>TlvV-xJhmh7LCwJYXkV-cg</td>\n",
       "      <td>32</td>\n",
       "      <td>Positive</td>\n",
       "    </tr>\n",
       "    <tr>\n",
       "      <th>...</th>\n",
       "      <td>...</td>\n",
       "      <td>...</td>\n",
       "      <td>...</td>\n",
       "      <td>...</td>\n",
       "      <td>...</td>\n",
       "      <td>...</td>\n",
       "      <td>...</td>\n",
       "      <td>...</td>\n",
       "      <td>...</td>\n",
       "      <td>...</td>\n",
       "      <td>...</td>\n",
       "    </tr>\n",
       "    <tr>\n",
       "      <th>689</th>\n",
       "      <td>BTcY04QFiS1uh-RpkR7rAg</td>\n",
       "      <td>1</td>\n",
       "      <td>2013-06-02</td>\n",
       "      <td>0</td>\n",
       "      <td>6_A58CCY8SHB7r-Wu7-A5g</td>\n",
       "      <td>5.0</td>\n",
       "      <td>Came here with my 2 year old daughter for our ...</td>\n",
       "      <td>2</td>\n",
       "      <td>q3AiAe-AcpDrNsdZf8nCvQ</td>\n",
       "      <td>61</td>\n",
       "      <td>Positive</td>\n",
       "    </tr>\n",
       "    <tr>\n",
       "      <th>4874</th>\n",
       "      <td>t0T_4MM4EUHbCzBTF11FHA</td>\n",
       "      <td>0</td>\n",
       "      <td>2016-08-14</td>\n",
       "      <td>0</td>\n",
       "      <td>KqQwNyfoFiJOw911mrULIg</td>\n",
       "      <td>5.0</td>\n",
       "      <td>Great little restaurant. Not to many tables an...</td>\n",
       "      <td>0</td>\n",
       "      <td>NJxaA7q9BhqaDrFpfR2Jeg</td>\n",
       "      <td>43</td>\n",
       "      <td>Positive</td>\n",
       "    </tr>\n",
       "    <tr>\n",
       "      <th>564</th>\n",
       "      <td>5XYR6doRa5Nj1JMfSDei6A</td>\n",
       "      <td>1</td>\n",
       "      <td>2016-06-14</td>\n",
       "      <td>0</td>\n",
       "      <td>xlGJkxoIBl8XH8wVsPZpnw</td>\n",
       "      <td>5.0</td>\n",
       "      <td>Always great friendly service and fresh baked ...</td>\n",
       "      <td>0</td>\n",
       "      <td>kBNFdviedCPFWyR-wVaAzw</td>\n",
       "      <td>79</td>\n",
       "      <td>Positive</td>\n",
       "    </tr>\n",
       "    <tr>\n",
       "      <th>3458</th>\n",
       "      <td>aLcFhMe6DDJ430zelCpd2A</td>\n",
       "      <td>0</td>\n",
       "      <td>2013-10-02</td>\n",
       "      <td>0</td>\n",
       "      <td>kwiEG_KCpDB6aK5fTSM7iw</td>\n",
       "      <td>2.0</td>\n",
       "      <td>We were expecting amazing Thai food after all ...</td>\n",
       "      <td>1</td>\n",
       "      <td>PkRFSQgSfca9Tamq7b2LdQ</td>\n",
       "      <td>185</td>\n",
       "      <td>Negative</td>\n",
       "    </tr>\n",
       "    <tr>\n",
       "      <th>4206</th>\n",
       "      <td>WdBWhGe4Siqg3IYTc4_K4A</td>\n",
       "      <td>0</td>\n",
       "      <td>2016-08-15</td>\n",
       "      <td>0</td>\n",
       "      <td>O0ttxNGxHKtD8Cnnwc_j1g</td>\n",
       "      <td>1.0</td>\n",
       "      <td>Sunday at 8p. Not many people here at all. We ...</td>\n",
       "      <td>0</td>\n",
       "      <td>ic9zIsm7zoxUm3Axyegx8g</td>\n",
       "      <td>42</td>\n",
       "      <td>Negative</td>\n",
       "    </tr>\n",
       "  </tbody>\n",
       "</table>\n",
       "<p>2277 rows × 11 columns</p>\n",
       "</div>"
      ],
      "text/plain": [
       "                 business_id cool        date  funny               review_id  \\\n",
       "1     pomGBqfbxcqPv14c3XH-ZQ    0  2012-11-13      0  dDl8zu1vWPdKGihJrwQbpw   \n",
       "2     jtQARsP6P-LbkyjbO1qNGg    1  2014-10-23      1  LZp4UX5zK3e-c5ZGSeo3kA   \n",
       "4     Ums3gaP2qM3W1XcA5r6SsQ    0  2014-09-05      0  jsDu6QEJHbwP2Blom1PLCA   \n",
       "5     vgfcTvK81oD4r50NMjU2Ag    0  2011-02-25      0  pfavA0hr3nyqO61oupj-lA   \n",
       "10    yFumR3CWzpfvTH2FCthvVw    0  2016-06-15      0  STiFMww2z31siPY7BWNC2g   \n",
       "...                      ...  ...         ...    ...                     ...   \n",
       "689   BTcY04QFiS1uh-RpkR7rAg    1  2013-06-02      0  6_A58CCY8SHB7r-Wu7-A5g   \n",
       "4874  t0T_4MM4EUHbCzBTF11FHA    0  2016-08-14      0  KqQwNyfoFiJOw911mrULIg   \n",
       "564   5XYR6doRa5Nj1JMfSDei6A    1  2016-06-14      0  xlGJkxoIBl8XH8wVsPZpnw   \n",
       "3458  aLcFhMe6DDJ430zelCpd2A    0  2013-10-02      0  kwiEG_KCpDB6aK5fTSM7iw   \n",
       "4206  WdBWhGe4Siqg3IYTc4_K4A    0  2016-08-15      0  O0ttxNGxHKtD8Cnnwc_j1g   \n",
       "\n",
       "      stars                                               text  useful  \\\n",
       "1       5.0  I love this place! My fiance And I go here atl...       0   \n",
       "2       1.0  Terrible. Dry corn bread. Rib tips were all fa...       3   \n",
       "4       5.0  Delicious healthy food. The steak is amazing. ...       0   \n",
       "5       NaN  This place sucks. The customer service is horr...       2   \n",
       "10      5.0  I have been an Emerald Club member for a numbe...       0   \n",
       "...     ...                                                ...     ...   \n",
       "689     5.0  Came here with my 2 year old daughter for our ...       2   \n",
       "4874    5.0  Great little restaurant. Not to many tables an...       0   \n",
       "564     5.0  Always great friendly service and fresh baked ...       0   \n",
       "3458    2.0  We were expecting amazing Thai food after all ...       1   \n",
       "4206    1.0  Sunday at 8p. Not many people here at all. We ...       0   \n",
       "\n",
       "                     user_id  review_length Sentiment  \n",
       "1     msQe1u7Z_XuqjGoqhB0J5g             58  Positive  \n",
       "2     msQe1u7Z_XuqjGoqhB0J5g             30  Negative  \n",
       "4     msQe1u7Z_XuqjGoqhB0J5g             30  Positive  \n",
       "5     msQe1u7Z_XuqjGoqhB0J5g             82  Negative  \n",
       "10    TlvV-xJhmh7LCwJYXkV-cg             32  Positive  \n",
       "...                      ...            ...       ...  \n",
       "689   q3AiAe-AcpDrNsdZf8nCvQ             61  Positive  \n",
       "4874  NJxaA7q9BhqaDrFpfR2Jeg             43  Positive  \n",
       "564   kBNFdviedCPFWyR-wVaAzw             79  Positive  \n",
       "3458  PkRFSQgSfca9Tamq7b2LdQ            185  Negative  \n",
       "4206  ic9zIsm7zoxUm3Axyegx8g             42  Negative  \n",
       "\n",
       "[2277 rows x 11 columns]"
      ]
     },
     "execution_count": 16,
     "metadata": {},
     "output_type": "execute_result"
    }
   ],
   "source": [
    "# removing  duplicated values \n",
    "df_yelp = df_yelp.drop_duplicates()\n",
    "df_yelp"
   ]
  },
  {
   "cell_type": "code",
   "execution_count": 17,
   "metadata": {},
   "outputs": [
    {
     "data": {
      "application/vnd.microsoft.datawrangler.viewer.v0+json": {
       "columns": [
        {
         "name": "index",
         "rawType": "bool",
         "type": "boolean"
        },
        {
         "name": "count",
         "rawType": "int64",
         "type": "integer"
        }
       ],
       "ref": "716d1d23-dd8a-4029-948b-aac23b5f71ba",
       "rows": [
        [
         "False",
         "2277"
        ]
       ],
       "shape": {
        "columns": 1,
        "rows": 1
       }
      },
      "text/plain": [
       "False    2277\n",
       "Name: count, dtype: int64"
      ]
     },
     "execution_count": 17,
     "metadata": {},
     "output_type": "execute_result"
    }
   ],
   "source": [
    "# verify that they have been removed\n",
    "\n",
    "df_yelp.duplicated().value_counts()"
   ]
  },
  {
   "cell_type": "markdown",
   "metadata": {},
   "source": [
    "## Data Loading "
   ]
  },
  {
   "cell_type": "code",
   "execution_count": 23,
   "metadata": {},
   "outputs": [
    {
     "data": {
      "application/vnd.microsoft.datawrangler.viewer.v0+json": {
       "columns": [
        {
         "name": "index",
         "rawType": "int64",
         "type": "integer"
        },
        {
         "name": "PassengerId",
         "rawType": "float64",
         "type": "float"
        },
        {
         "name": "Survived",
         "rawType": "float64",
         "type": "float"
        },
        {
         "name": "Pclass",
         "rawType": "object",
         "type": "string"
        },
        {
         "name": "Name",
         "rawType": "object",
         "type": "string"
        },
        {
         "name": "Sex",
         "rawType": "object",
         "type": "string"
        },
        {
         "name": "Age",
         "rawType": "float64",
         "type": "float"
        },
        {
         "name": "SibSp",
         "rawType": "float64",
         "type": "float"
        },
        {
         "name": "Parch",
         "rawType": "float64",
         "type": "float"
        },
        {
         "name": "Ticket",
         "rawType": "object",
         "type": "string"
        },
        {
         "name": "Fare",
         "rawType": "float64",
         "type": "float"
        },
        {
         "name": "Cabin",
         "rawType": "object",
         "type": "unknown"
        },
        {
         "name": "Embarked",
         "rawType": "object",
         "type": "string"
        }
       ],
       "ref": "1ae8e4e8-0fa7-4154-bb4b-0b6e5264a0ab",
       "rows": [
        [
         "0",
         "1.0",
         "0.0",
         "3",
         "Braund, Mr. Owen Harris",
         "male",
         "22.0",
         "1.0",
         "0.0",
         "A/5 21171",
         "7.25",
         null,
         "S"
        ],
        [
         "1",
         "2.0",
         "1.0",
         "1",
         "Cumings, Mrs. John Bradley (Florence Briggs Thayer)",
         "female",
         "38.0",
         "1.0",
         "0.0",
         "PC 17599",
         "71.2833",
         "C85",
         "C"
        ],
        [
         "2",
         "3.0",
         "1.0",
         "3",
         "Heikkinen, Miss. Laina",
         "female",
         "26.0",
         "0.0",
         "0.0",
         "STON/O2. 3101282",
         "7.925",
         null,
         "S"
        ],
        [
         "3",
         "4.0",
         "1.0",
         "1",
         "Futrelle, Mrs. Jacques Heath (Lily May Peel)",
         "female",
         "35.0",
         "1.0",
         "0.0",
         "113803",
         "53.1",
         "C123",
         "S"
        ],
        [
         "4",
         "5.0",
         "0.0",
         "3",
         "Allen, Mr. William Henry",
         "male",
         "35.0",
         "0.0",
         "0.0",
         "373450",
         "8.05",
         null,
         "S"
        ]
       ],
       "shape": {
        "columns": 12,
        "rows": 5
       }
      },
      "text/html": [
       "<div>\n",
       "<style scoped>\n",
       "    .dataframe tbody tr th:only-of-type {\n",
       "        vertical-align: middle;\n",
       "    }\n",
       "\n",
       "    .dataframe tbody tr th {\n",
       "        vertical-align: top;\n",
       "    }\n",
       "\n",
       "    .dataframe thead th {\n",
       "        text-align: right;\n",
       "    }\n",
       "</style>\n",
       "<table border=\"1\" class=\"dataframe\">\n",
       "  <thead>\n",
       "    <tr style=\"text-align: right;\">\n",
       "      <th></th>\n",
       "      <th>PassengerId</th>\n",
       "      <th>Survived</th>\n",
       "      <th>Pclass</th>\n",
       "      <th>Name</th>\n",
       "      <th>Sex</th>\n",
       "      <th>Age</th>\n",
       "      <th>SibSp</th>\n",
       "      <th>Parch</th>\n",
       "      <th>Ticket</th>\n",
       "      <th>Fare</th>\n",
       "      <th>Cabin</th>\n",
       "      <th>Embarked</th>\n",
       "    </tr>\n",
       "  </thead>\n",
       "  <tbody>\n",
       "    <tr>\n",
       "      <th>0</th>\n",
       "      <td>1.0</td>\n",
       "      <td>0.0</td>\n",
       "      <td>3</td>\n",
       "      <td>Braund, Mr. Owen Harris</td>\n",
       "      <td>male</td>\n",
       "      <td>22.0</td>\n",
       "      <td>1.0</td>\n",
       "      <td>0.0</td>\n",
       "      <td>A/5 21171</td>\n",
       "      <td>7.2500</td>\n",
       "      <td>NaN</td>\n",
       "      <td>S</td>\n",
       "    </tr>\n",
       "    <tr>\n",
       "      <th>1</th>\n",
       "      <td>2.0</td>\n",
       "      <td>1.0</td>\n",
       "      <td>1</td>\n",
       "      <td>Cumings, Mrs. John Bradley (Florence Briggs Th...</td>\n",
       "      <td>female</td>\n",
       "      <td>38.0</td>\n",
       "      <td>1.0</td>\n",
       "      <td>0.0</td>\n",
       "      <td>PC 17599</td>\n",
       "      <td>71.2833</td>\n",
       "      <td>C85</td>\n",
       "      <td>C</td>\n",
       "    </tr>\n",
       "    <tr>\n",
       "      <th>2</th>\n",
       "      <td>3.0</td>\n",
       "      <td>1.0</td>\n",
       "      <td>3</td>\n",
       "      <td>Heikkinen, Miss. Laina</td>\n",
       "      <td>female</td>\n",
       "      <td>26.0</td>\n",
       "      <td>0.0</td>\n",
       "      <td>0.0</td>\n",
       "      <td>STON/O2. 3101282</td>\n",
       "      <td>7.9250</td>\n",
       "      <td>NaN</td>\n",
       "      <td>S</td>\n",
       "    </tr>\n",
       "    <tr>\n",
       "      <th>3</th>\n",
       "      <td>4.0</td>\n",
       "      <td>1.0</td>\n",
       "      <td>1</td>\n",
       "      <td>Futrelle, Mrs. Jacques Heath (Lily May Peel)</td>\n",
       "      <td>female</td>\n",
       "      <td>35.0</td>\n",
       "      <td>1.0</td>\n",
       "      <td>0.0</td>\n",
       "      <td>113803</td>\n",
       "      <td>53.1000</td>\n",
       "      <td>C123</td>\n",
       "      <td>S</td>\n",
       "    </tr>\n",
       "    <tr>\n",
       "      <th>4</th>\n",
       "      <td>5.0</td>\n",
       "      <td>0.0</td>\n",
       "      <td>3</td>\n",
       "      <td>Allen, Mr. William Henry</td>\n",
       "      <td>male</td>\n",
       "      <td>35.0</td>\n",
       "      <td>0.0</td>\n",
       "      <td>0.0</td>\n",
       "      <td>373450</td>\n",
       "      <td>8.0500</td>\n",
       "      <td>NaN</td>\n",
       "      <td>S</td>\n",
       "    </tr>\n",
       "  </tbody>\n",
       "</table>\n",
       "</div>"
      ],
      "text/plain": [
       "   PassengerId  Survived Pclass  \\\n",
       "0          1.0       0.0      3   \n",
       "1          2.0       1.0      1   \n",
       "2          3.0       1.0      3   \n",
       "3          4.0       1.0      1   \n",
       "4          5.0       0.0      3   \n",
       "\n",
       "                                                Name     Sex   Age  SibSp  \\\n",
       "0                            Braund, Mr. Owen Harris    male  22.0    1.0   \n",
       "1  Cumings, Mrs. John Bradley (Florence Briggs Th...  female  38.0    1.0   \n",
       "2                             Heikkinen, Miss. Laina  female  26.0    0.0   \n",
       "3       Futrelle, Mrs. Jacques Heath (Lily May Peel)  female  35.0    1.0   \n",
       "4                           Allen, Mr. William Henry    male  35.0    0.0   \n",
       "\n",
       "   Parch            Ticket     Fare Cabin Embarked  \n",
       "0    0.0         A/5 21171   7.2500   NaN        S  \n",
       "1    0.0          PC 17599  71.2833   C85        C  \n",
       "2    0.0  STON/O2. 3101282   7.9250   NaN        S  \n",
       "3    0.0            113803  53.1000  C123        S  \n",
       "4    0.0            373450   8.0500   NaN        S  "
      ]
     },
     "execution_count": 23,
     "metadata": {},
     "output_type": "execute_result"
    }
   ],
   "source": [
    "# data loading for titanic dataset\n",
    "\n",
    "df_titanic = pd.read_csv(\"./data/titanic.csv\")\n",
    "df_titanic.head()\n"
   ]
  },
  {
   "cell_type": "code",
   "execution_count": 599,
   "metadata": {},
   "outputs": [
    {
     "name": "stdout",
     "output_type": "stream",
     "text": [
      "<class 'pandas.core.frame.DataFrame'>\n",
      "RangeIndex: 1391 entries, 0 to 1390\n",
      "Data columns (total 12 columns):\n",
      " #   Column       Non-Null Count  Dtype  \n",
      "---  ------       --------------  -----  \n",
      " 0   PassengerId  1391 non-null   float64\n",
      " 1   Survived     1391 non-null   float64\n",
      " 2   Pclass       1391 non-null   object \n",
      " 3   Name         1391 non-null   object \n",
      " 4   Sex          1391 non-null   object \n",
      " 5   Age          1209 non-null   float64\n",
      " 6   SibSp        1391 non-null   float64\n",
      " 7   Parch        1391 non-null   float64\n",
      " 8   Ticket       1391 non-null   object \n",
      " 9   Fare         1391 non-null   float64\n",
      " 10  Cabin        602 non-null    object \n",
      " 11  Embarked     1289 non-null   object \n",
      "dtypes: float64(6), object(6)\n",
      "memory usage: 130.5+ KB\n"
     ]
    }
   ],
   "source": [
    "# info\n",
    "df_titanic.info()\n"
   ]
  },
  {
   "cell_type": "markdown",
   "metadata": {},
   "source": [
    "### Dealing with missing values "
   ]
  },
  {
   "cell_type": "markdown",
   "metadata": {},
   "source": [
    "#### Detecting Null Values "
   ]
  },
  {
   "cell_type": "code",
   "execution_count": 600,
   "metadata": {},
   "outputs": [
    {
     "data": {
      "text/plain": [
       "PassengerId      0\n",
       "Survived         0\n",
       "Pclass           0\n",
       "Name             0\n",
       "Sex              0\n",
       "Age            182\n",
       "SibSp            0\n",
       "Parch            0\n",
       "Ticket           0\n",
       "Fare             0\n",
       "Cabin          789\n",
       "Embarked       102\n",
       "dtype: int64"
      ]
     },
     "execution_count": 600,
     "metadata": {},
     "output_type": "execute_result"
    }
   ],
   "source": [
    "# detecting null  values \n",
    "#isnull\n",
    "\n",
    "df_titanic.isna().sum()\n"
   ]
  },
  {
   "cell_type": "markdown",
   "metadata": {},
   "source": [
    "## Strategies for dealing with missing data\n",
    "\n",
    "Detecting missing values isn't enough -- we need to deal with them in order to move forward. We have three options for dealing with missing values -- removing them from the dataset, keeping them, or replacing them with another value"
   ]
  },
  {
   "cell_type": "markdown",
   "metadata": {},
   "source": [
    "### Removing "
   ]
  },
  {
   "cell_type": "markdown",
   "metadata": {},
   "source": [
    "The easiest way to deal with missing values is to drop the offending rows and/or columns. The downside to this is that we lose data in the process. This is a valid strategy on very large datasets -- however, on smaller datasets, throwing away data may be unacceptable"
   ]
  },
  {
   "cell_type": "markdown",
   "metadata": {},
   "source": [
    "## Droping columns"
   ]
  },
  {
   "cell_type": "code",
   "execution_count": 601,
   "metadata": {},
   "outputs": [],
   "source": [
    "# Dropping inplace \n",
    "# df_titanic.drop(\"Cabin\",axis=1,inplace=True)\n",
    "# df_titanic.info()"
   ]
  },
  {
   "cell_type": "code",
   "execution_count": 602,
   "metadata": {},
   "outputs": [],
   "source": [
    "#df_titanic.dropna(axis=0,inplace=True)\n",
    "#df_titanic.info()"
   ]
  },
  {
   "cell_type": "code",
   "execution_count": 24,
   "metadata": {},
   "outputs": [
    {
     "name": "stdout",
     "output_type": "stream",
     "text": [
      "<class 'pandas.core.frame.DataFrame'>\n",
      "RangeIndex: 1391 entries, 0 to 1390\n",
      "Data columns (total 11 columns):\n",
      " #   Column       Non-Null Count  Dtype  \n",
      "---  ------       --------------  -----  \n",
      " 0   PassengerId  1391 non-null   float64\n",
      " 1   Survived     1391 non-null   float64\n",
      " 2   Pclass       1391 non-null   object \n",
      " 3   Name         1391 non-null   object \n",
      " 4   Sex          1391 non-null   object \n",
      " 5   Age          1209 non-null   float64\n",
      " 6   SibSp        1391 non-null   float64\n",
      " 7   Parch        1391 non-null   float64\n",
      " 8   Ticket       1391 non-null   object \n",
      " 9   Fare         1391 non-null   float64\n",
      " 10  Embarked     1289 non-null   object \n",
      "dtypes: float64(6), object(5)\n",
      "memory usage: 119.7+ KB\n"
     ]
    }
   ],
   "source": [
    "# dropping and reasign\n",
    "df_titanic = df_titanic.drop(\"Cabin\",axis=1)\n",
    "df_titanic.info()"
   ]
  },
  {
   "cell_type": "code",
   "execution_count": 604,
   "metadata": {},
   "outputs": [
    {
     "data": {
      "text/plain": [
       "PassengerId      0\n",
       "Survived         0\n",
       "Pclass           0\n",
       "Name             0\n",
       "Sex              0\n",
       "Age            182\n",
       "SibSp            0\n",
       "Parch            0\n",
       "Ticket           0\n",
       "Fare             0\n",
       "Embarked       102\n",
       "dtype: int64"
      ]
     },
     "execution_count": 604,
     "metadata": {},
     "output_type": "execute_result"
    }
   ],
   "source": [
    "df_titanic.isna().sum()"
   ]
  },
  {
   "cell_type": "markdown",
   "metadata": {},
   "source": [
    "### Replacing Missing values (imputing) "
   ]
  },
  {
   "cell_type": "markdown",
   "metadata": {},
   "source": [
    "**Continuous data**\n",
    "\n",
    "For continuous data, the best solution is to replace the missing values with the median value for that column. The median value is a good choice because it is least likely to influence the distribution of the dataset overall. If the dataset is symmetric, then the mean and the median will be the same value. If the dataset is not symmetric, then the mean is more likely to be skewed by outlier values, so the median is a better choice."
   ]
  },
  {
   "cell_type": "code",
   "execution_count": 605,
   "metadata": {},
   "outputs": [
    {
     "data": {
      "text/plain": [
       "PassengerId      0\n",
       "Survived         0\n",
       "Pclass           0\n",
       "Name             0\n",
       "Sex              0\n",
       "Age            182\n",
       "SibSp            0\n",
       "Parch            0\n",
       "Ticket           0\n",
       "Fare             0\n",
       "Embarked       102\n",
       "dtype: int64"
      ]
     },
     "execution_count": 605,
     "metadata": {},
     "output_type": "execute_result"
    }
   ],
   "source": [
    "# recheck  for missing values \n",
    "df_titanic.isna().sum()\n"
   ]
  },
  {
   "cell_type": "code",
   "execution_count": 25,
   "metadata": {},
   "outputs": [
    {
     "data": {
      "text/plain": [
       "np.float64(27.0)"
      ]
     },
     "execution_count": 25,
     "metadata": {},
     "output_type": "execute_result"
    }
   ],
   "source": [
    "age_mediun = df_titanic[\"Age\"].median()\n",
    "age_mediun"
   ]
  },
  {
   "cell_type": "code",
   "execution_count": 26,
   "metadata": {},
   "outputs": [],
   "source": [
    "# example 1\n",
    "df_titanic[\"Age\"] = df_titanic[\"Age\"].fillna(age_mediun)"
   ]
  },
  {
   "cell_type": "code",
   "execution_count": 608,
   "metadata": {},
   "outputs": [
    {
     "data": {
      "text/plain": [
       "PassengerId      0\n",
       "Survived         0\n",
       "Pclass           0\n",
       "Name             0\n",
       "Sex              0\n",
       "Age              0\n",
       "SibSp            0\n",
       "Parch            0\n",
       "Ticket           0\n",
       "Fare             0\n",
       "Embarked       102\n",
       "dtype: int64"
      ]
     },
     "execution_count": 608,
     "metadata": {},
     "output_type": "execute_result"
    }
   ],
   "source": [
    "# recheck  for missing values \n",
    "df_titanic.isna().sum()"
   ]
  },
  {
   "cell_type": "markdown",
   "metadata": {},
   "source": [
    "**Categorical data**\n",
    "\n",
    "With categorical data, this is harder, since we don't have summary statistics to lean on such as the median or the mean. In this case, if one categorical value is much more common than others, it is a valid strategy to replace missing values with this common value. However, make sure to examine your data first. If all the categorical values are equally common, picking one to replace all the missing values may do more harm than good by skewing the distribution and introducing some false signal into your dataset"
   ]
  },
  {
   "cell_type": "code",
   "execution_count": 609,
   "metadata": {},
   "outputs": [
    {
     "data": {
      "text/plain": [
       "PassengerId      0\n",
       "Survived         0\n",
       "Pclass           0\n",
       "Name             0\n",
       "Sex              0\n",
       "Age              0\n",
       "SibSp            0\n",
       "Parch            0\n",
       "Ticket           0\n",
       "Fare             0\n",
       "Embarked       102\n",
       "dtype: int64"
      ]
     },
     "execution_count": 609,
     "metadata": {},
     "output_type": "execute_result"
    }
   ],
   "source": [
    "# recheck for missing values \n",
    "df_titanic.isna().sum()"
   ]
  },
  {
   "cell_type": "code",
   "execution_count": 616,
   "metadata": {},
   "outputs": [
    {
     "data": {
      "text/html": [
       "<div>\n",
       "<style scoped>\n",
       "    .dataframe tbody tr th:only-of-type {\n",
       "        vertical-align: middle;\n",
       "    }\n",
       "\n",
       "    .dataframe tbody tr th {\n",
       "        vertical-align: top;\n",
       "    }\n",
       "\n",
       "    .dataframe thead th {\n",
       "        text-align: right;\n",
       "    }\n",
       "</style>\n",
       "<table border=\"1\" class=\"dataframe\">\n",
       "  <thead>\n",
       "    <tr style=\"text-align: right;\">\n",
       "      <th></th>\n",
       "      <th>PassengerId</th>\n",
       "      <th>Survived</th>\n",
       "      <th>Pclass</th>\n",
       "      <th>Name</th>\n",
       "      <th>Sex</th>\n",
       "      <th>Age</th>\n",
       "      <th>SibSp</th>\n",
       "      <th>Parch</th>\n",
       "      <th>Ticket</th>\n",
       "      <th>Fare</th>\n",
       "      <th>Embarked</th>\n",
       "    </tr>\n",
       "  </thead>\n",
       "  <tbody>\n",
       "    <tr>\n",
       "      <th>0</th>\n",
       "      <td>1.0</td>\n",
       "      <td>0.0</td>\n",
       "      <td>3</td>\n",
       "      <td>Braund, Mr. Owen Harris</td>\n",
       "      <td>male</td>\n",
       "      <td>22.0</td>\n",
       "      <td>1.0</td>\n",
       "      <td>0.0</td>\n",
       "      <td>A/5 21171</td>\n",
       "      <td>7.2500</td>\n",
       "      <td>S</td>\n",
       "    </tr>\n",
       "    <tr>\n",
       "      <th>1</th>\n",
       "      <td>2.0</td>\n",
       "      <td>1.0</td>\n",
       "      <td>1</td>\n",
       "      <td>Cumings, Mrs. John Bradley (Florence Briggs Th...</td>\n",
       "      <td>female</td>\n",
       "      <td>38.0</td>\n",
       "      <td>1.0</td>\n",
       "      <td>0.0</td>\n",
       "      <td>PC 17599</td>\n",
       "      <td>71.2833</td>\n",
       "      <td>C</td>\n",
       "    </tr>\n",
       "    <tr>\n",
       "      <th>2</th>\n",
       "      <td>3.0</td>\n",
       "      <td>1.0</td>\n",
       "      <td>3</td>\n",
       "      <td>Heikkinen, Miss. Laina</td>\n",
       "      <td>female</td>\n",
       "      <td>26.0</td>\n",
       "      <td>0.0</td>\n",
       "      <td>0.0</td>\n",
       "      <td>STON/O2. 3101282</td>\n",
       "      <td>7.9250</td>\n",
       "      <td>S</td>\n",
       "    </tr>\n",
       "    <tr>\n",
       "      <th>3</th>\n",
       "      <td>4.0</td>\n",
       "      <td>1.0</td>\n",
       "      <td>1</td>\n",
       "      <td>Futrelle, Mrs. Jacques Heath (Lily May Peel)</td>\n",
       "      <td>female</td>\n",
       "      <td>35.0</td>\n",
       "      <td>1.0</td>\n",
       "      <td>0.0</td>\n",
       "      <td>113803</td>\n",
       "      <td>53.1000</td>\n",
       "      <td>S</td>\n",
       "    </tr>\n",
       "    <tr>\n",
       "      <th>4</th>\n",
       "      <td>5.0</td>\n",
       "      <td>0.0</td>\n",
       "      <td>3</td>\n",
       "      <td>Allen, Mr. William Henry</td>\n",
       "      <td>male</td>\n",
       "      <td>35.0</td>\n",
       "      <td>0.0</td>\n",
       "      <td>0.0</td>\n",
       "      <td>373450</td>\n",
       "      <td>8.0500</td>\n",
       "      <td>S</td>\n",
       "    </tr>\n",
       "  </tbody>\n",
       "</table>\n",
       "</div>"
      ],
      "text/plain": [
       "   PassengerId  Survived Pclass  \\\n",
       "0          1.0       0.0      3   \n",
       "1          2.0       1.0      1   \n",
       "2          3.0       1.0      3   \n",
       "3          4.0       1.0      1   \n",
       "4          5.0       0.0      3   \n",
       "\n",
       "                                                Name     Sex   Age  SibSp  \\\n",
       "0                            Braund, Mr. Owen Harris    male  22.0    1.0   \n",
       "1  Cumings, Mrs. John Bradley (Florence Briggs Th...  female  38.0    1.0   \n",
       "2                             Heikkinen, Miss. Laina  female  26.0    0.0   \n",
       "3       Futrelle, Mrs. Jacques Heath (Lily May Peel)  female  35.0    1.0   \n",
       "4                           Allen, Mr. William Henry    male  35.0    0.0   \n",
       "\n",
       "   Parch            Ticket     Fare Embarked  \n",
       "0    0.0         A/5 21171   7.2500        S  \n",
       "1    0.0          PC 17599  71.2833        C  \n",
       "2    0.0  STON/O2. 3101282   7.9250        S  \n",
       "3    0.0            113803  53.1000        S  \n",
       "4    0.0            373450   8.0500        S  "
      ]
     },
     "execution_count": 616,
     "metadata": {},
     "output_type": "execute_result"
    }
   ],
   "source": [
    "df_titanic.head()"
   ]
  },
  {
   "cell_type": "code",
   "execution_count": 610,
   "metadata": {},
   "outputs": [
    {
     "data": {
      "text/plain": [
       "Embarked\n",
       "S    830\n",
       "C    285\n",
       "Q    174\n",
       "Name: count, dtype: int64"
      ]
     },
     "execution_count": 610,
     "metadata": {},
     "output_type": "execute_result"
    }
   ],
   "source": [
    "# most common value \n",
    "df_titanic[\"Embarked\"].value_counts()\n"
   ]
  },
  {
   "cell_type": "code",
   "execution_count": 611,
   "metadata": {},
   "outputs": [
    {
     "data": {
      "text/plain": [
       "0    S\n",
       "Name: Embarked, dtype: object"
      ]
     },
     "execution_count": 611,
     "metadata": {},
     "output_type": "execute_result"
    }
   ],
   "source": [
    "embarked_mode  = df_titanic[\"Embarked\"].mode()\n",
    "embarked_mode"
   ]
  },
  {
   "cell_type": "code",
   "execution_count": 612,
   "metadata": {},
   "outputs": [],
   "source": [
    "# filling with a custom value \n",
    "# df_titanic[\"Embarked\"] = df_titanic[\"Embarked\"].fillna(\"M\")\n"
   ]
  },
  {
   "cell_type": "code",
   "execution_count": null,
   "metadata": {},
   "outputs": [],
   "source": [
    "# replacing with mode \n",
    "df_titanic[\"Embarked\"] = df_titanic[\"Embarked\"].fillna(embarked_mode)\n"
   ]
  },
  {
   "cell_type": "code",
   "execution_count": 618,
   "metadata": {},
   "outputs": [
    {
     "data": {
      "text/plain": [
       "PassengerId    0\n",
       "Survived       0\n",
       "Pclass         0\n",
       "Name           0\n",
       "Sex            0\n",
       "Age            0\n",
       "SibSp          0\n",
       "Parch          0\n",
       "Ticket         0\n",
       "Fare           0\n",
       "Embarked       0\n",
       "dtype: int64"
      ]
     },
     "execution_count": 618,
     "metadata": {},
     "output_type": "execute_result"
    }
   ],
   "source": [
    "# recheck for missing values \n",
    "df_titanic.isna().sum()\n"
   ]
  },
  {
   "cell_type": "code",
   "execution_count": 615,
   "metadata": {},
   "outputs": [
    {
     "data": {
      "text/plain": [
       "Embarked\n",
       "S    932\n",
       "C    285\n",
       "Q    174\n",
       "Name: count, dtype: int64"
      ]
     },
     "execution_count": 615,
     "metadata": {},
     "output_type": "execute_result"
    }
   ],
   "source": [
    "df_titanic[\"Embarked\"].value_counts()"
   ]
  }
 ],
 "metadata": {
  "kernelspec": {
   "display_name": "learn-env",
   "language": "python",
   "name": "python3"
  },
  "language_info": {
   "codemirror_mode": {
    "name": "ipython",
    "version": 3
   },
   "file_extension": ".py",
   "mimetype": "text/x-python",
   "name": "python",
   "nbconvert_exporter": "python",
   "pygments_lexer": "ipython3",
   "version": "3.13.7"
  }
 },
 "nbformat": 4,
 "nbformat_minor": 4
}
